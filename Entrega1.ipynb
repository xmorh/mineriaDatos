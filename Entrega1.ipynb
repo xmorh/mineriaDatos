{
 "cells": [
  {
   "cell_type": "markdown",
   "metadata": {},
   "source": [
    "## ET Entrega 1 \n",
    "# Caso Análisis de Condiciones Climáticas en Australia\n",
    "\n",
    "* Maura Ruminot\n",
    "* Paula Romero"
   ]
  },
  {
   "cell_type": "markdown",
   "metadata": {},
   "source": [
    "## Contexto"
   ]
  },
  {
   "cell_type": "markdown",
   "metadata": {},
   "source": [
    "<font color = 'blue'>\n",
    "EDA: \n",
    "\n",
    "1. [Carga y Revisión de Data](#1)\n",
    "2. [Descripción de variables](#2)\n",
    "1. [Análisis de variables](#3)\n",
    "    * [Variables Categóricas](#4)\n",
    "    * [Variables Numéricas](#5)\n",
    "1. [Análisis con gráficos](#6)\n",
    "1. [ ](#7)"
   ]
  },
  {
   "cell_type": "markdown",
   "metadata": {},
   "source": [
    "<a id = \"1\"></a><br>\n",
    "# Carga y Revisión de Data"
   ]
  },
  {
   "cell_type": "code",
   "execution_count": 18,
   "metadata": {},
   "outputs": [],
   "source": [
    "# Importación de librerías\n",
    "import pandas as pd\n",
    "import numpy as np \n",
    "import matplotlib.pyplot as plt\n",
    "import seaborn as sns\n",
    "from collections import Counter\n",
    "import warnings\n",
    "warnings.filterwarnings(\"ignore\")"
   ]
  },
  {
   "cell_type": "code",
   "execution_count": 19,
   "metadata": {},
   "outputs": [
    {
     "data": {
      "text/html": [
       "<div>\n",
       "<style scoped>\n",
       "    .dataframe tbody tr th:only-of-type {\n",
       "        vertical-align: middle;\n",
       "    }\n",
       "\n",
       "    .dataframe tbody tr th {\n",
       "        vertical-align: top;\n",
       "    }\n",
       "\n",
       "    .dataframe thead th {\n",
       "        text-align: right;\n",
       "    }\n",
       "</style>\n",
       "<table border=\"1\" class=\"dataframe\">\n",
       "  <thead>\n",
       "    <tr style=\"text-align: right;\">\n",
       "      <th></th>\n",
       "      <th>Date</th>\n",
       "      <th>Location</th>\n",
       "      <th>MinTemp</th>\n",
       "      <th>MaxTemp</th>\n",
       "      <th>Rainfall</th>\n",
       "      <th>Evaporation</th>\n",
       "      <th>Sunshine</th>\n",
       "      <th>WindGustDir</th>\n",
       "      <th>WindGustSpeed</th>\n",
       "      <th>WindDir9am</th>\n",
       "      <th>...</th>\n",
       "      <th>Humidity3pm</th>\n",
       "      <th>Pressure9am</th>\n",
       "      <th>Pressure3pm</th>\n",
       "      <th>Cloud9am</th>\n",
       "      <th>Cloud3pm</th>\n",
       "      <th>Temp9am</th>\n",
       "      <th>Temp3pm</th>\n",
       "      <th>RainToday</th>\n",
       "      <th>RISK_MM</th>\n",
       "      <th>RainTomorrow</th>\n",
       "    </tr>\n",
       "  </thead>\n",
       "  <tbody>\n",
       "    <tr>\n",
       "      <th>0</th>\n",
       "      <td>2008-12-01</td>\n",
       "      <td>Albury</td>\n",
       "      <td>13.4</td>\n",
       "      <td>22.9</td>\n",
       "      <td>0.6</td>\n",
       "      <td>NaN</td>\n",
       "      <td>NaN</td>\n",
       "      <td>W</td>\n",
       "      <td>44.0</td>\n",
       "      <td>W</td>\n",
       "      <td>...</td>\n",
       "      <td>22.0</td>\n",
       "      <td>1007.7</td>\n",
       "      <td>1007.1</td>\n",
       "      <td>8.0</td>\n",
       "      <td>NaN</td>\n",
       "      <td>16.9</td>\n",
       "      <td>21.8</td>\n",
       "      <td>No</td>\n",
       "      <td>0.0</td>\n",
       "      <td>No</td>\n",
       "    </tr>\n",
       "    <tr>\n",
       "      <th>1</th>\n",
       "      <td>2008-12-02</td>\n",
       "      <td>Albury</td>\n",
       "      <td>7.4</td>\n",
       "      <td>25.1</td>\n",
       "      <td>0.0</td>\n",
       "      <td>NaN</td>\n",
       "      <td>NaN</td>\n",
       "      <td>WNW</td>\n",
       "      <td>44.0</td>\n",
       "      <td>NNW</td>\n",
       "      <td>...</td>\n",
       "      <td>25.0</td>\n",
       "      <td>1010.6</td>\n",
       "      <td>1007.8</td>\n",
       "      <td>NaN</td>\n",
       "      <td>NaN</td>\n",
       "      <td>17.2</td>\n",
       "      <td>24.3</td>\n",
       "      <td>No</td>\n",
       "      <td>0.0</td>\n",
       "      <td>No</td>\n",
       "    </tr>\n",
       "    <tr>\n",
       "      <th>2</th>\n",
       "      <td>2008-12-03</td>\n",
       "      <td>Albury</td>\n",
       "      <td>12.9</td>\n",
       "      <td>25.7</td>\n",
       "      <td>0.0</td>\n",
       "      <td>NaN</td>\n",
       "      <td>NaN</td>\n",
       "      <td>WSW</td>\n",
       "      <td>46.0</td>\n",
       "      <td>W</td>\n",
       "      <td>...</td>\n",
       "      <td>30.0</td>\n",
       "      <td>1007.6</td>\n",
       "      <td>1008.7</td>\n",
       "      <td>NaN</td>\n",
       "      <td>2.0</td>\n",
       "      <td>21.0</td>\n",
       "      <td>23.2</td>\n",
       "      <td>No</td>\n",
       "      <td>0.0</td>\n",
       "      <td>No</td>\n",
       "    </tr>\n",
       "    <tr>\n",
       "      <th>3</th>\n",
       "      <td>2008-12-04</td>\n",
       "      <td>Albury</td>\n",
       "      <td>9.2</td>\n",
       "      <td>28.0</td>\n",
       "      <td>0.0</td>\n",
       "      <td>NaN</td>\n",
       "      <td>NaN</td>\n",
       "      <td>NE</td>\n",
       "      <td>24.0</td>\n",
       "      <td>SE</td>\n",
       "      <td>...</td>\n",
       "      <td>16.0</td>\n",
       "      <td>1017.6</td>\n",
       "      <td>1012.8</td>\n",
       "      <td>NaN</td>\n",
       "      <td>NaN</td>\n",
       "      <td>18.1</td>\n",
       "      <td>26.5</td>\n",
       "      <td>No</td>\n",
       "      <td>1.0</td>\n",
       "      <td>No</td>\n",
       "    </tr>\n",
       "    <tr>\n",
       "      <th>4</th>\n",
       "      <td>2008-12-05</td>\n",
       "      <td>Albury</td>\n",
       "      <td>17.5</td>\n",
       "      <td>32.3</td>\n",
       "      <td>1.0</td>\n",
       "      <td>NaN</td>\n",
       "      <td>NaN</td>\n",
       "      <td>W</td>\n",
       "      <td>41.0</td>\n",
       "      <td>ENE</td>\n",
       "      <td>...</td>\n",
       "      <td>33.0</td>\n",
       "      <td>1010.8</td>\n",
       "      <td>1006.0</td>\n",
       "      <td>7.0</td>\n",
       "      <td>8.0</td>\n",
       "      <td>17.8</td>\n",
       "      <td>29.7</td>\n",
       "      <td>No</td>\n",
       "      <td>0.2</td>\n",
       "      <td>No</td>\n",
       "    </tr>\n",
       "  </tbody>\n",
       "</table>\n",
       "<p>5 rows × 24 columns</p>\n",
       "</div>"
      ],
      "text/plain": [
       "         Date Location  MinTemp  MaxTemp  Rainfall  Evaporation  Sunshine  \\\n",
       "0  2008-12-01   Albury     13.4     22.9       0.6          NaN       NaN   \n",
       "1  2008-12-02   Albury      7.4     25.1       0.0          NaN       NaN   \n",
       "2  2008-12-03   Albury     12.9     25.7       0.0          NaN       NaN   \n",
       "3  2008-12-04   Albury      9.2     28.0       0.0          NaN       NaN   \n",
       "4  2008-12-05   Albury     17.5     32.3       1.0          NaN       NaN   \n",
       "\n",
       "  WindGustDir  WindGustSpeed WindDir9am  ... Humidity3pm  Pressure9am  \\\n",
       "0           W           44.0          W  ...        22.0       1007.7   \n",
       "1         WNW           44.0        NNW  ...        25.0       1010.6   \n",
       "2         WSW           46.0          W  ...        30.0       1007.6   \n",
       "3          NE           24.0         SE  ...        16.0       1017.6   \n",
       "4           W           41.0        ENE  ...        33.0       1010.8   \n",
       "\n",
       "   Pressure3pm  Cloud9am  Cloud3pm  Temp9am  Temp3pm  RainToday  RISK_MM  \\\n",
       "0       1007.1       8.0       NaN     16.9     21.8         No      0.0   \n",
       "1       1007.8       NaN       NaN     17.2     24.3         No      0.0   \n",
       "2       1008.7       NaN       2.0     21.0     23.2         No      0.0   \n",
       "3       1012.8       NaN       NaN     18.1     26.5         No      1.0   \n",
       "4       1006.0       7.0       8.0     17.8     29.7         No      0.2   \n",
       "\n",
       "   RainTomorrow  \n",
       "0            No  \n",
       "1            No  \n",
       "2            No  \n",
       "3            No  \n",
       "4            No  \n",
       "\n",
       "[5 rows x 24 columns]"
      ]
     },
     "execution_count": 19,
     "metadata": {},
     "output_type": "execute_result"
    }
   ],
   "source": [
    "data = pd.read_csv('weatherAUS.csv')\n",
    "data.head()"
   ]
  },
  {
   "cell_type": "markdown",
   "metadata": {},
   "source": [
    "### * Información de la data"
   ]
  },
  {
   "cell_type": "code",
   "execution_count": 20,
   "metadata": {},
   "outputs": [
    {
     "data": {
      "text/html": [
       "<div>\n",
       "<style scoped>\n",
       "    .dataframe tbody tr th:only-of-type {\n",
       "        vertical-align: middle;\n",
       "    }\n",
       "\n",
       "    .dataframe tbody tr th {\n",
       "        vertical-align: top;\n",
       "    }\n",
       "\n",
       "    .dataframe thead th {\n",
       "        text-align: right;\n",
       "    }\n",
       "</style>\n",
       "<table border=\"1\" class=\"dataframe\">\n",
       "  <thead>\n",
       "    <tr style=\"text-align: right;\">\n",
       "      <th></th>\n",
       "      <th>MinTemp</th>\n",
       "      <th>MaxTemp</th>\n",
       "      <th>Rainfall</th>\n",
       "      <th>Evaporation</th>\n",
       "      <th>Sunshine</th>\n",
       "      <th>WindGustSpeed</th>\n",
       "      <th>WindSpeed9am</th>\n",
       "      <th>WindSpeed3pm</th>\n",
       "      <th>Humidity9am</th>\n",
       "      <th>Humidity3pm</th>\n",
       "      <th>Pressure9am</th>\n",
       "      <th>Pressure3pm</th>\n",
       "      <th>Cloud9am</th>\n",
       "      <th>Cloud3pm</th>\n",
       "      <th>Temp9am</th>\n",
       "      <th>Temp3pm</th>\n",
       "      <th>RISK_MM</th>\n",
       "    </tr>\n",
       "  </thead>\n",
       "  <tbody>\n",
       "    <tr>\n",
       "      <th>count</th>\n",
       "      <td>141556.000000</td>\n",
       "      <td>141871.000000</td>\n",
       "      <td>140787.000000</td>\n",
       "      <td>81350.000000</td>\n",
       "      <td>74377.000000</td>\n",
       "      <td>132923.000000</td>\n",
       "      <td>140845.000000</td>\n",
       "      <td>139563.000000</td>\n",
       "      <td>140419.000000</td>\n",
       "      <td>138583.000000</td>\n",
       "      <td>128179.000000</td>\n",
       "      <td>128212.000000</td>\n",
       "      <td>88536.000000</td>\n",
       "      <td>85099.000000</td>\n",
       "      <td>141289.000000</td>\n",
       "      <td>139467.000000</td>\n",
       "      <td>142193.000000</td>\n",
       "    </tr>\n",
       "    <tr>\n",
       "      <th>mean</th>\n",
       "      <td>12.186400</td>\n",
       "      <td>23.226784</td>\n",
       "      <td>2.349974</td>\n",
       "      <td>5.469824</td>\n",
       "      <td>7.624853</td>\n",
       "      <td>39.984292</td>\n",
       "      <td>14.001988</td>\n",
       "      <td>18.637576</td>\n",
       "      <td>68.843810</td>\n",
       "      <td>51.482606</td>\n",
       "      <td>1017.653758</td>\n",
       "      <td>1015.258204</td>\n",
       "      <td>4.437189</td>\n",
       "      <td>4.503167</td>\n",
       "      <td>16.987509</td>\n",
       "      <td>21.687235</td>\n",
       "      <td>2.360682</td>\n",
       "    </tr>\n",
       "    <tr>\n",
       "      <th>std</th>\n",
       "      <td>6.403283</td>\n",
       "      <td>7.117618</td>\n",
       "      <td>8.465173</td>\n",
       "      <td>4.188537</td>\n",
       "      <td>3.781525</td>\n",
       "      <td>13.588801</td>\n",
       "      <td>8.893337</td>\n",
       "      <td>8.803345</td>\n",
       "      <td>19.051293</td>\n",
       "      <td>20.797772</td>\n",
       "      <td>7.105476</td>\n",
       "      <td>7.036677</td>\n",
       "      <td>2.887016</td>\n",
       "      <td>2.720633</td>\n",
       "      <td>6.492838</td>\n",
       "      <td>6.937594</td>\n",
       "      <td>8.477969</td>\n",
       "    </tr>\n",
       "    <tr>\n",
       "      <th>min</th>\n",
       "      <td>-8.500000</td>\n",
       "      <td>-4.800000</td>\n",
       "      <td>0.000000</td>\n",
       "      <td>0.000000</td>\n",
       "      <td>0.000000</td>\n",
       "      <td>6.000000</td>\n",
       "      <td>0.000000</td>\n",
       "      <td>0.000000</td>\n",
       "      <td>0.000000</td>\n",
       "      <td>0.000000</td>\n",
       "      <td>980.500000</td>\n",
       "      <td>977.100000</td>\n",
       "      <td>0.000000</td>\n",
       "      <td>0.000000</td>\n",
       "      <td>-7.200000</td>\n",
       "      <td>-5.400000</td>\n",
       "      <td>0.000000</td>\n",
       "    </tr>\n",
       "    <tr>\n",
       "      <th>25%</th>\n",
       "      <td>7.600000</td>\n",
       "      <td>17.900000</td>\n",
       "      <td>0.000000</td>\n",
       "      <td>2.600000</td>\n",
       "      <td>4.900000</td>\n",
       "      <td>31.000000</td>\n",
       "      <td>7.000000</td>\n",
       "      <td>13.000000</td>\n",
       "      <td>57.000000</td>\n",
       "      <td>37.000000</td>\n",
       "      <td>1012.900000</td>\n",
       "      <td>1010.400000</td>\n",
       "      <td>1.000000</td>\n",
       "      <td>2.000000</td>\n",
       "      <td>12.300000</td>\n",
       "      <td>16.600000</td>\n",
       "      <td>0.000000</td>\n",
       "    </tr>\n",
       "    <tr>\n",
       "      <th>50%</th>\n",
       "      <td>12.000000</td>\n",
       "      <td>22.600000</td>\n",
       "      <td>0.000000</td>\n",
       "      <td>4.800000</td>\n",
       "      <td>8.500000</td>\n",
       "      <td>39.000000</td>\n",
       "      <td>13.000000</td>\n",
       "      <td>19.000000</td>\n",
       "      <td>70.000000</td>\n",
       "      <td>52.000000</td>\n",
       "      <td>1017.600000</td>\n",
       "      <td>1015.200000</td>\n",
       "      <td>5.000000</td>\n",
       "      <td>5.000000</td>\n",
       "      <td>16.700000</td>\n",
       "      <td>21.100000</td>\n",
       "      <td>0.000000</td>\n",
       "    </tr>\n",
       "    <tr>\n",
       "      <th>75%</th>\n",
       "      <td>16.800000</td>\n",
       "      <td>28.200000</td>\n",
       "      <td>0.800000</td>\n",
       "      <td>7.400000</td>\n",
       "      <td>10.600000</td>\n",
       "      <td>48.000000</td>\n",
       "      <td>19.000000</td>\n",
       "      <td>24.000000</td>\n",
       "      <td>83.000000</td>\n",
       "      <td>66.000000</td>\n",
       "      <td>1022.400000</td>\n",
       "      <td>1020.000000</td>\n",
       "      <td>7.000000</td>\n",
       "      <td>7.000000</td>\n",
       "      <td>21.600000</td>\n",
       "      <td>26.400000</td>\n",
       "      <td>0.800000</td>\n",
       "    </tr>\n",
       "    <tr>\n",
       "      <th>max</th>\n",
       "      <td>33.900000</td>\n",
       "      <td>48.100000</td>\n",
       "      <td>371.000000</td>\n",
       "      <td>145.000000</td>\n",
       "      <td>14.500000</td>\n",
       "      <td>135.000000</td>\n",
       "      <td>130.000000</td>\n",
       "      <td>87.000000</td>\n",
       "      <td>100.000000</td>\n",
       "      <td>100.000000</td>\n",
       "      <td>1041.000000</td>\n",
       "      <td>1039.600000</td>\n",
       "      <td>9.000000</td>\n",
       "      <td>9.000000</td>\n",
       "      <td>40.200000</td>\n",
       "      <td>46.700000</td>\n",
       "      <td>371.000000</td>\n",
       "    </tr>\n",
       "  </tbody>\n",
       "</table>\n",
       "</div>"
      ],
      "text/plain": [
       "             MinTemp        MaxTemp       Rainfall   Evaporation  \\\n",
       "count  141556.000000  141871.000000  140787.000000  81350.000000   \n",
       "mean       12.186400      23.226784       2.349974      5.469824   \n",
       "std         6.403283       7.117618       8.465173      4.188537   \n",
       "min        -8.500000      -4.800000       0.000000      0.000000   \n",
       "25%         7.600000      17.900000       0.000000      2.600000   \n",
       "50%        12.000000      22.600000       0.000000      4.800000   \n",
       "75%        16.800000      28.200000       0.800000      7.400000   \n",
       "max        33.900000      48.100000     371.000000    145.000000   \n",
       "\n",
       "           Sunshine  WindGustSpeed   WindSpeed9am   WindSpeed3pm  \\\n",
       "count  74377.000000  132923.000000  140845.000000  139563.000000   \n",
       "mean       7.624853      39.984292      14.001988      18.637576   \n",
       "std        3.781525      13.588801       8.893337       8.803345   \n",
       "min        0.000000       6.000000       0.000000       0.000000   \n",
       "25%        4.900000      31.000000       7.000000      13.000000   \n",
       "50%        8.500000      39.000000      13.000000      19.000000   \n",
       "75%       10.600000      48.000000      19.000000      24.000000   \n",
       "max       14.500000     135.000000     130.000000      87.000000   \n",
       "\n",
       "         Humidity9am    Humidity3pm    Pressure9am    Pressure3pm  \\\n",
       "count  140419.000000  138583.000000  128179.000000  128212.000000   \n",
       "mean       68.843810      51.482606    1017.653758    1015.258204   \n",
       "std        19.051293      20.797772       7.105476       7.036677   \n",
       "min         0.000000       0.000000     980.500000     977.100000   \n",
       "25%        57.000000      37.000000    1012.900000    1010.400000   \n",
       "50%        70.000000      52.000000    1017.600000    1015.200000   \n",
       "75%        83.000000      66.000000    1022.400000    1020.000000   \n",
       "max       100.000000     100.000000    1041.000000    1039.600000   \n",
       "\n",
       "           Cloud9am      Cloud3pm        Temp9am        Temp3pm        RISK_MM  \n",
       "count  88536.000000  85099.000000  141289.000000  139467.000000  142193.000000  \n",
       "mean       4.437189      4.503167      16.987509      21.687235       2.360682  \n",
       "std        2.887016      2.720633       6.492838       6.937594       8.477969  \n",
       "min        0.000000      0.000000      -7.200000      -5.400000       0.000000  \n",
       "25%        1.000000      2.000000      12.300000      16.600000       0.000000  \n",
       "50%        5.000000      5.000000      16.700000      21.100000       0.000000  \n",
       "75%        7.000000      7.000000      21.600000      26.400000       0.800000  \n",
       "max        9.000000      9.000000      40.200000      46.700000     371.000000  "
      ]
     },
     "execution_count": 20,
     "metadata": {},
     "output_type": "execute_result"
    }
   ],
   "source": [
    "data.describe()"
   ]
  },
  {
   "cell_type": "markdown",
   "metadata": {},
   "source": [
    "### Vemos los tipo de datos de cada columna"
   ]
  },
  {
   "cell_type": "code",
   "execution_count": 21,
   "metadata": {},
   "outputs": [
    {
     "data": {
      "text/plain": [
       "Index(['Date', 'Location', 'MinTemp', 'MaxTemp', 'Rainfall', 'Evaporation',\n",
       "       'Sunshine', 'WindGustDir', 'WindGustSpeed', 'WindDir9am', 'WindDir3pm',\n",
       "       'WindSpeed9am', 'WindSpeed3pm', 'Humidity9am', 'Humidity3pm',\n",
       "       'Pressure9am', 'Pressure3pm', 'Cloud9am', 'Cloud3pm', 'Temp9am',\n",
       "       'Temp3pm', 'RainToday', 'RISK_MM', 'RainTomorrow'],\n",
       "      dtype='object')"
      ]
     },
     "execution_count": 21,
     "metadata": {},
     "output_type": "execute_result"
    }
   ],
   "source": [
    "data.columns"
   ]
  },
  {
   "cell_type": "code",
   "execution_count": 22,
   "metadata": {},
   "outputs": [
    {
     "name": "stdout",
     "output_type": "stream",
     "text": [
      "<class 'pandas.core.frame.DataFrame'>\n",
      "RangeIndex: 142193 entries, 0 to 142192\n",
      "Data columns (total 24 columns):\n",
      " #   Column         Non-Null Count   Dtype  \n",
      "---  ------         --------------   -----  \n",
      " 0   Date           142193 non-null  object \n",
      " 1   Location       142193 non-null  object \n",
      " 2   MinTemp        141556 non-null  float64\n",
      " 3   MaxTemp        141871 non-null  float64\n",
      " 4   Rainfall       140787 non-null  float64\n",
      " 5   Evaporation    81350 non-null   float64\n",
      " 6   Sunshine       74377 non-null   float64\n",
      " 7   WindGustDir    132863 non-null  object \n",
      " 8   WindGustSpeed  132923 non-null  float64\n",
      " 9   WindDir9am     132180 non-null  object \n",
      " 10  WindDir3pm     138415 non-null  object \n",
      " 11  WindSpeed9am   140845 non-null  float64\n",
      " 12  WindSpeed3pm   139563 non-null  float64\n",
      " 13  Humidity9am    140419 non-null  float64\n",
      " 14  Humidity3pm    138583 non-null  float64\n",
      " 15  Pressure9am    128179 non-null  float64\n",
      " 16  Pressure3pm    128212 non-null  float64\n",
      " 17  Cloud9am       88536 non-null   float64\n",
      " 18  Cloud3pm       85099 non-null   float64\n",
      " 19  Temp9am        141289 non-null  float64\n",
      " 20  Temp3pm        139467 non-null  float64\n",
      " 21  RainToday      140787 non-null  object \n",
      " 22  RISK_MM        142193 non-null  float64\n",
      " 23  RainTomorrow   142193 non-null  object \n",
      "dtypes: float64(17), object(7)\n",
      "memory usage: 26.0+ MB\n"
     ]
    }
   ],
   "source": [
    "data.info()"
   ]
  },
  {
   "cell_type": "markdown",
   "metadata": {},
   "source": [
    "### Buscamos nulos por columnas"
   ]
  },
  {
   "cell_type": "code",
   "execution_count": 23,
   "metadata": {},
   "outputs": [
    {
     "data": {
      "text/plain": [
       "Index(['MinTemp', 'MaxTemp', 'Rainfall', 'Evaporation', 'Sunshine',\n",
       "       'WindGustDir', 'WindGustSpeed', 'WindDir9am', 'WindDir3pm',\n",
       "       'WindSpeed9am', 'WindSpeed3pm', 'Humidity9am', 'Humidity3pm',\n",
       "       'Pressure9am', 'Pressure3pm', 'Cloud9am', 'Cloud3pm', 'Temp9am',\n",
       "       'Temp3pm', 'RainToday'],\n",
       "      dtype='object')"
      ]
     },
     "execution_count": 23,
     "metadata": {},
     "output_type": "execute_result"
    }
   ],
   "source": [
    "data.columns[data.isnull().any()]"
   ]
  },
  {
   "cell_type": "code",
   "execution_count": 24,
   "metadata": {},
   "outputs": [
    {
     "data": {
      "text/plain": [
       "Sunshine         67816\n",
       "Evaporation      60843\n",
       "Cloud3pm         57094\n",
       "Cloud9am         53657\n",
       "Pressure9am      14014\n",
       "Pressure3pm      13981\n",
       "WindDir9am       10013\n",
       "WindGustDir       9330\n",
       "WindGustSpeed     9270\n",
       "WindDir3pm        3778\n",
       "Humidity3pm       3610\n",
       "Temp3pm           2726\n",
       "WindSpeed3pm      2630\n",
       "Humidity9am       1774\n",
       "RainToday         1406\n",
       "Rainfall          1406\n",
       "WindSpeed9am      1348\n",
       "Temp9am            904\n",
       "MinTemp            637\n",
       "MaxTemp            322\n",
       "RISK_MM              0\n",
       "Date                 0\n",
       "Location             0\n",
       "RainTomorrow         0\n",
       "dtype: int64"
      ]
     },
     "execution_count": 24,
     "metadata": {},
     "output_type": "execute_result"
    }
   ],
   "source": [
    "#Bucando los datos nulos por tabla\n",
    "data.isnull().sum().sort_values(ascending=False)"
   ]
  },
  {
   "cell_type": "code",
   "execution_count": null,
   "metadata": {},
   "outputs": [],
   "source": []
  },
  {
   "cell_type": "markdown",
   "metadata": {},
   "source": [
    "### - Trabajamos los nulos"
   ]
  },
  {
   "cell_type": "markdown",
   "metadata": {},
   "source": []
  },
  {
   "cell_type": "markdown",
   "metadata": {},
   "source": [
    "<a id = \"1\"></a><br>\n",
    "# Descripción de variables\n",
    "\n",
    "- Date: fecha de la observación.\n",
    "- Location: ubicación de la estación meteorológica.\n",
    "- MinTemp: temperatura mínima en grados Celsius.\n",
    "- MaxTemp: temperatura máxima en grados Celsius.\n",
    "- Rainfall: cantidad de lluvia registrada ese día en mm.\n",
    "- Evaporation: evaporación (mm) en 24 horas.\n",
    "- Sunshine: número de horas de sol brillante en el día.\n",
    "- WindGustDir: dirección de la ráfaga de viento más fuerte en 24 horas.\n",
    "- WindGustSpeed: velocidad (km/hr) de la ráfaga de viento más fuerte en 24 horas.\n",
    "- WindDir9am: dirección del viento a las 9am.\n",
    "- WindDir3pm: dirección del viento a las 3pm.\n",
    "- WindSpeed9am: velocidad (km/hr) del viento a las 9am.\n",
    "- WindSpeed3pm: velocidad (km/hr) del viento a las 3pm.\n",
    "- Humidity9am: porcentaje de humedad a las 9am.\n",
    "- Humidity3pm:  porcentaje de humedad a las 3pm.\n",
    "- Pressure9am: presión atmosférica (hpa) a nivel del mar a las 9am.\n",
    "- Pressure3pm: presión atmosférica (hpa) a nivel del mar a las 3pm.\n",
    "- Cloud9am: fración del cielo cubierto por nubes a las 9am. Se mide en \"octavos\", de manera que un valor 0 indica cielo totalmente despejado y 8, cielo totalmente cubierto.\n",
    "- Cloud3p fración del cielo cubierto por nubes a las 3pm. Se mide en \"octavos\", de manera que un valor 0 indica cielo totalmenete despejado y 8, cielo totalmente cubieto.:\n",
    "- Temp: 9temperatura en grados celsius a lasm..m: \n",
    "- Temp: 3temperatura en grados celsius a las 3p: \n",
    "- RainToday:To variable indicadora que toma el valor 1 si la precipitación en mm. en las últimas 24 hrs. excede 1 mm. y 0 si ny:\n",
    "- RI_MM:SK La cantidad de lluvia. Una especie de medida del \"riesgoM:\n",
    "- RainTomorrow:ovariable indicadora que toma el valor 1 si al día siguiente llovió y 0 si no.no."
   ]
  },
  {
   "cell_type": "markdown",
   "metadata": {},
   "source": [
    "<a id = \"3\"></a><br>\n",
    "# Análisis de variables"
   ]
  },
  {
   "cell_type": "markdown",
   "metadata": {},
   "source": [
    "* 17 son variables númericas.\n",
    "* 7 son variables categóricas."
   ]
  },
  {
   "cell_type": "markdown",
   "metadata": {},
   "source": [
    "<a id = \"3\"></a><br>\n",
    "# - Variables númericas"
   ]
  },
  {
   "cell_type": "code",
   "execution_count": 25,
   "metadata": {},
   "outputs": [],
   "source": [
    "def plot_hist(variable, color='purple'):\n",
    "    plt.figure(figsize=(9, 3))\n",
    "    plt.hist(data[variable], bins=50, color=color)\n",
    "    plt.xlabel(variable)\n",
    "    plt.ylabel(\"Cantidad\")\n",
    "    plt.title(\"Distribución de {}\".format(variable))\n",
    "    plt.show()"
   ]
  },
  {
   "cell_type": "code",
   "execution_count": 26,
   "metadata": {},
   "outputs": [],
   "source": [
    "# Lista de variables numéricas para el analisis\n",
    "numeVar = [\"MinTemp\", \"MaxTemp\", \"Rainfall\", \"Evaporation\", \"Sunshine\", \n",
    "           \"WindGustSpeed\", \"WindSpeed9am\", \"WindSpeed3pm\", \n",
    "           \"Humidity9am\", \"Humidity3pm\", \"Pressure9am\", \"Pressure3pm\", \n",
    "           \"Cloud9am\", \"Cloud3pm\", \"Temp9am\", \"Temp3pm\", \"RISK_MM\"]\n"
   ]
  },
  {
   "cell_type": "code",
   "execution_count": 27,
   "metadata": {},
   "outputs": [
    {
     "data": {
      "image/png": "[encoded data removed]",
      "text/plain": [
       "<Figure size 648x216 with 1 Axes>"
      ]
     },
     "metadata": {
      "needs_background": "light"
     },
     "output_type": "display_data"
    },
    {
     "data": {
      "image/png": "[encoded data removed]",
      "text/plain": [
       "<Figure size 648x216 with 1 Axes>"
      ]
     },
     "metadata": {
      "needs_background": "light"
     },
     "output_type": "display_data"
    },
    {
     "data": {
      "image/png": "[encoded data removed]",
      "text/plain": [
       "<Figure size 648x216 with 1 Axes>"
      ]
     },
     "metadata": {
      "needs_background": "light"
     },
     "output_type": "display_data"
    },
    {
     "data": {
      "image/png": "[encoded data removed]",
      "text/plain": [
       "<Figure size 648x216 with 1 Axes>"
      ]
     },
     "metadata": {
      "needs_background": "light"
     },
     "output_type": "display_data"
    },
    {
     "data": {
      "image/png": "[encoded data removed]",
      "text/plain": [
       "<Figure size 648x216 with 1 Axes>"
      ]
     },
     "metadata": {
      "needs_background": "light"
     },
     "output_type": "display_data"
    },
    {
     "data": {
      "image/png": "[encoded data removed]",
      "text/plain": [
       "<Figure size 648x216 with 1 Axes>"
      ]
     },
     "metadata": {
      "needs_background": "light"
     },
     "output_type": "display_data"
    },
    {
     "data": {
      "image/png": "[encoded data removed]",
      "text/plain": [
       "<Figure size 648x216 with 1 Axes>"
      ]
     },
     "metadata": {
      "needs_background": "light"
     },
     "output_type": "display_data"
    },
    {
     "data": {
      "image/png": "[encoded data removed]",
      "text/plain": [
       "<Figure size 648x216 with 1 Axes>"
      ]
     },
     "metadata": {
      "needs_background": "light"
     },
     "output_type": "display_data"
    },
    {
     "data": {
      "image/png": "[encoded data removed]",
      "text/plain": [
       "<Figure size 648x216 with 1 Axes>"
      ]
     },
     "metadata": {
      "needs_background": "light"
     },
     "output_type": "display_data"
    },
    {
     "data": {
      "image/png": "[encoded data removed]",
      "text/plain": [
       "<Figure size 648x216 with 1 Axes>"
      ]
     },
     "metadata": {
      "needs_background": "light"
     },
     "output_type": "display_data"
    },
    {
     "data": {
      "image/png": "[encoded data removed]",
      "text/plain": [
       "<Figure size 648x216 with 1 Axes>"
      ]
     },
     "metadata": {
      "needs_background": "light"
     },
     "output_type": "display_data"
    },
    {
     "data": {
      "image/png": "[encoded data removed]",
      "text/plain": [
       "<Figure size 648x216 with 1 Axes>"
      ]
     },
     "metadata": {
      "needs_background": "light"
     },
     "output_type": "display_data"
    },
    {
     "data": {
      "image/png": "[encoded data removed]",
      "text/plain": [
       "<Figure size 648x216 with 1 Axes>"
      ]
     },
     "metadata": {
      "needs_background": "light"
     },
     "output_type": "display_data"
    },
    {
     "data": {
      "image/png": "[encoded data removed]",
      "text/plain": [
       "<Figure size 648x216 with 1 Axes>"
      ]
     },
     "metadata": {
      "needs_background": "light"
     },
     "output_type": "display_data"
    },
    {
     "data": {
      "image/png": "[encoded data removed]",
      "text/plain": [
       "<Figure size 648x216 with 1 Axes>"
      ]
     },
     "metadata": {
      "needs_background": "light"
     },
     "output_type": "display_data"
    },
    {
     "data": {
      "image/png": "[encoded data removed]",
      "text/plain": [
       "<Figure size 648x216 with 1 Axes>"
      ]
     },
     "metadata": {
      "needs_background": "light"
     },
     "output_type": "display_data"
    },
    {
     "data": {
      "image/png": "[encoded data removed]",
      "text/plain": [
       "<Figure size 648x216 with 1 Axes>"
      ]
     },
     "metadata": {
      "needs_background": "light"
     },
     "output_type": "display_data"
    }
   ],
   "source": [
    "# Realizamos los graficos para analizar la distribución\n",
    "for n in numeVar:\n",
    "    plot_hist(n)"
   ]
  },
  {
   "cell_type": "markdown",
   "metadata": {},
   "source": [
    "<a id = \"3\"></a><br>\n",
    "# - Variables categóricas"
   ]
  },
  {
   "cell_type": "code",
   "execution_count": 28,
   "metadata": {},
   "outputs": [
    {
     "data": {
      "image/png": "[encoded data removed]",
      "text/plain": [
       "<Figure size 720x432 with 1 Axes>"
      ]
     },
     "metadata": {
      "needs_background": "light"
     },
     "output_type": "display_data"
    },
    {
     "data": {
      "image/png": "[encoded data removed]",
      "text/plain": [
       "<Figure size 720x432 with 1 Axes>"
      ]
     },
     "metadata": {
      "needs_background": "light"
     },
     "output_type": "display_data"
    },
    {
     "data": {
      "image/png": "[encoded data removed]",
      "text/plain": [
       "<Figure size 720x432 with 1 Axes>"
      ]
     },
     "metadata": {
      "needs_background": "light"
     },
     "output_type": "display_data"
    },
    {
     "data": {
      "image/png": "[encoded data removed]",
      "text/plain": [
       "<Figure size 720x432 with 1 Axes>"
      ]
     },
     "metadata": {
      "needs_background": "light"
     },
     "output_type": "display_data"
    },
    {
     "data": {
      "image/png": "[encoded data removed]",
      "text/plain": [
       "<Figure size 720x432 with 1 Axes>"
      ]
     },
     "metadata": {
      "needs_background": "light"
     },
     "output_type": "display_data"
    },
    {
     "data": {
      "image/png": "[encoded data removed]",
      "text/plain": [
       "<Figure size 720x432 with 1 Axes>"
      ]
     },
     "metadata": {
      "needs_background": "light"
     },
     "output_type": "display_data"
    }
   ],
   "source": [
    "columnas_categoricas = ['Location', 'WindGustDir', 'WindDir9am', 'WindDir3pm', 'RainToday', 'RainTomorrow']\n",
    "\n",
    "# Crear un gráfico de barras para cada variable categórica\n",
    "for columna in columnas_categoricas:\n",
    "    plt.figure(figsize=(10, 6))\n",
    "    data[columna].value_counts().plot(kind='bar')\n",
    "    plt.title(columna)\n",
    "    plt.xlabel('Categoría')\n",
    "    plt.ylabel('Frecuencia')\n",
    "    plt.xticks(rotation=90)  # Rotar etiquetas en el eje x para mayor legibilidad\n",
    "    plt.show()"
   ]
  },
  {
   "cell_type": "markdown",
   "metadata": {},
   "source": [
    "<a id = \"5\"></a><br>\n",
    "# Análisis de datos"
   ]
  },
  {
   "cell_type": "code",
   "execution_count": null,
   "metadata": {},
   "outputs": [],
   "source": []
  },
  {
   "cell_type": "markdown",
   "metadata": {},
   "source": [
    "### Cruce de variables"
   ]
  },
  {
   "cell_type": "code",
   "execution_count": 29,
   "metadata": {},
   "outputs": [
    {
     "data": {
      "text/html": [
       "<div>\n",
       "<style scoped>\n",
       "    .dataframe tbody tr th:only-of-type {\n",
       "        vertical-align: middle;\n",
       "    }\n",
       "\n",
       "    .dataframe tbody tr th {\n",
       "        vertical-align: top;\n",
       "    }\n",
       "\n",
       "    .dataframe thead th {\n",
       "        text-align: right;\n",
       "    }\n",
       "</style>\n",
       "<table border=\"1\" class=\"dataframe\">\n",
       "  <thead>\n",
       "    <tr style=\"text-align: right;\">\n",
       "      <th></th>\n",
       "      <th>Location</th>\n",
       "      <th>MinTemp</th>\n",
       "    </tr>\n",
       "  </thead>\n",
       "  <tbody>\n",
       "    <tr>\n",
       "      <th>23</th>\n",
       "      <td>MountGinini</td>\n",
       "      <td>-8.5</td>\n",
       "    </tr>\n",
       "    <tr>\n",
       "      <th>40</th>\n",
       "      <td>Tuggeranong</td>\n",
       "      <td>-8.2</td>\n",
       "    </tr>\n",
       "    <tr>\n",
       "      <th>9</th>\n",
       "      <td>Canberra</td>\n",
       "      <td>-8.0</td>\n",
       "    </tr>\n",
       "    <tr>\n",
       "      <th>5</th>\n",
       "      <td>Ballarat</td>\n",
       "      <td>-5.6</td>\n",
       "    </tr>\n",
       "    <tr>\n",
       "      <th>3</th>\n",
       "      <td>AliceSprings</td>\n",
       "      <td>-5.2</td>\n",
       "    </tr>\n",
       "    <tr>\n",
       "      <th>34</th>\n",
       "      <td>Richmond</td>\n",
       "      <td>-4.8</td>\n",
       "    </tr>\n",
       "    <tr>\n",
       "      <th>42</th>\n",
       "      <td>WaggaWagga</td>\n",
       "      <td>-4.7</td>\n",
       "    </tr>\n",
       "    <tr>\n",
       "      <th>36</th>\n",
       "      <td>SalmonGums</td>\n",
       "      <td>-4.4</td>\n",
       "    </tr>\n",
       "    <tr>\n",
       "      <th>6</th>\n",
       "      <td>Bendigo</td>\n",
       "      <td>-4.0</td>\n",
       "    </tr>\n",
       "    <tr>\n",
       "      <th>35</th>\n",
       "      <td>Sale</td>\n",
       "      <td>-3.9</td>\n",
       "    </tr>\n",
       "    <tr>\n",
       "      <th>17</th>\n",
       "      <td>Launceston</td>\n",
       "      <td>-3.5</td>\n",
       "    </tr>\n",
       "    <tr>\n",
       "      <th>28</th>\n",
       "      <td>Nuriootpa</td>\n",
       "      <td>-3.5</td>\n",
       "    </tr>\n",
       "    <tr>\n",
       "      <th>21</th>\n",
       "      <td>Moree</td>\n",
       "      <td>-3.3</td>\n",
       "    </tr>\n",
       "    <tr>\n",
       "      <th>20</th>\n",
       "      <td>Mildura</td>\n",
       "      <td>-3.2</td>\n",
       "    </tr>\n",
       "    <tr>\n",
       "      <th>4</th>\n",
       "      <td>BadgerysCreek</td>\n",
       "      <td>-3.0</td>\n",
       "    </tr>\n",
       "    <tr>\n",
       "      <th>2</th>\n",
       "      <td>Albury</td>\n",
       "      <td>-2.8</td>\n",
       "    </tr>\n",
       "    <tr>\n",
       "      <th>12</th>\n",
       "      <td>Dartmoor</td>\n",
       "      <td>-2.7</td>\n",
       "    </tr>\n",
       "    <tr>\n",
       "      <th>25</th>\n",
       "      <td>Nhil</td>\n",
       "      <td>-2.3</td>\n",
       "    </tr>\n",
       "    <tr>\n",
       "      <th>44</th>\n",
       "      <td>Watsonia</td>\n",
       "      <td>-2.1</td>\n",
       "    </tr>\n",
       "    <tr>\n",
       "      <th>22</th>\n",
       "      <td>MountGambier</td>\n",
       "      <td>-2.1</td>\n",
       "    </tr>\n",
       "    <tr>\n",
       "      <th>10</th>\n",
       "      <td>Cobar</td>\n",
       "      <td>-2.0</td>\n",
       "    </tr>\n",
       "    <tr>\n",
       "      <th>41</th>\n",
       "      <td>Uluru</td>\n",
       "      <td>-1.9</td>\n",
       "    </tr>\n",
       "    <tr>\n",
       "      <th>29</th>\n",
       "      <td>PearceRAAF</td>\n",
       "      <td>-1.9</td>\n",
       "    </tr>\n",
       "    <tr>\n",
       "      <th>45</th>\n",
       "      <td>Williamtown</td>\n",
       "      <td>-1.8</td>\n",
       "    </tr>\n",
       "    <tr>\n",
       "      <th>33</th>\n",
       "      <td>Portland</td>\n",
       "      <td>-1.5</td>\n",
       "    </tr>\n",
       "    <tr>\n",
       "      <th>30</th>\n",
       "      <td>Penrith</td>\n",
       "      <td>-1.1</td>\n",
       "    </tr>\n",
       "    <tr>\n",
       "      <th>32</th>\n",
       "      <td>PerthAirport</td>\n",
       "      <td>-1.0</td>\n",
       "    </tr>\n",
       "    <tr>\n",
       "      <th>19</th>\n",
       "      <td>MelbourneAirport</td>\n",
       "      <td>-1.0</td>\n",
       "    </tr>\n",
       "    <tr>\n",
       "      <th>46</th>\n",
       "      <td>Witchcliffe</td>\n",
       "      <td>-0.7</td>\n",
       "    </tr>\n",
       "    <tr>\n",
       "      <th>31</th>\n",
       "      <td>Perth</td>\n",
       "      <td>-0.6</td>\n",
       "    </tr>\n",
       "    <tr>\n",
       "      <th>15</th>\n",
       "      <td>Hobart</td>\n",
       "      <td>-0.4</td>\n",
       "    </tr>\n",
       "    <tr>\n",
       "      <th>11</th>\n",
       "      <td>CoffsHarbour</td>\n",
       "      <td>0.6</td>\n",
       "    </tr>\n",
       "    <tr>\n",
       "      <th>0</th>\n",
       "      <td>Adelaide</td>\n",
       "      <td>0.7</td>\n",
       "    </tr>\n",
       "    <tr>\n",
       "      <th>48</th>\n",
       "      <td>Woomera</td>\n",
       "      <td>0.7</td>\n",
       "    </tr>\n",
       "    <tr>\n",
       "      <th>18</th>\n",
       "      <td>Melbourne</td>\n",
       "      <td>1.5</td>\n",
       "    </tr>\n",
       "    <tr>\n",
       "      <th>1</th>\n",
       "      <td>Albany</td>\n",
       "      <td>1.8</td>\n",
       "    </tr>\n",
       "    <tr>\n",
       "      <th>24</th>\n",
       "      <td>Newcastle</td>\n",
       "      <td>2.2</td>\n",
       "    </tr>\n",
       "    <tr>\n",
       "      <th>43</th>\n",
       "      <td>Walpole</td>\n",
       "      <td>2.6</td>\n",
       "    </tr>\n",
       "    <tr>\n",
       "      <th>7</th>\n",
       "      <td>Brisbane</td>\n",
       "      <td>2.6</td>\n",
       "    </tr>\n",
       "    <tr>\n",
       "      <th>38</th>\n",
       "      <td>SydneyAirport</td>\n",
       "      <td>3.2</td>\n",
       "    </tr>\n",
       "    <tr>\n",
       "      <th>37</th>\n",
       "      <td>Sydney</td>\n",
       "      <td>4.3</td>\n",
       "    </tr>\n",
       "    <tr>\n",
       "      <th>26</th>\n",
       "      <td>NorahHead</td>\n",
       "      <td>4.6</td>\n",
       "    </tr>\n",
       "    <tr>\n",
       "      <th>14</th>\n",
       "      <td>GoldCoast</td>\n",
       "      <td>4.9</td>\n",
       "    </tr>\n",
       "    <tr>\n",
       "      <th>16</th>\n",
       "      <td>Katherine</td>\n",
       "      <td>5.2</td>\n",
       "    </tr>\n",
       "    <tr>\n",
       "      <th>47</th>\n",
       "      <td>Wollongong</td>\n",
       "      <td>5.4</td>\n",
       "    </tr>\n",
       "    <tr>\n",
       "      <th>39</th>\n",
       "      <td>Townsville</td>\n",
       "      <td>6.4</td>\n",
       "    </tr>\n",
       "    <tr>\n",
       "      <th>8</th>\n",
       "      <td>Cairns</td>\n",
       "      <td>9.2</td>\n",
       "    </tr>\n",
       "    <tr>\n",
       "      <th>27</th>\n",
       "      <td>NorfolkIsland</td>\n",
       "      <td>9.4</td>\n",
       "    </tr>\n",
       "    <tr>\n",
       "      <th>13</th>\n",
       "      <td>Darwin</td>\n",
       "      <td>12.5</td>\n",
       "    </tr>\n",
       "  </tbody>\n",
       "</table>\n",
       "</div>"
      ],
      "text/plain": [
       "            Location  MinTemp\n",
       "23       MountGinini     -8.5\n",
       "40       Tuggeranong     -8.2\n",
       "9           Canberra     -8.0\n",
       "5           Ballarat     -5.6\n",
       "3       AliceSprings     -5.2\n",
       "34          Richmond     -4.8\n",
       "42        WaggaWagga     -4.7\n",
       "36        SalmonGums     -4.4\n",
       "6            Bendigo     -4.0\n",
       "35              Sale     -3.9\n",
       "17        Launceston     -3.5\n",
       "28         Nuriootpa     -3.5\n",
       "21             Moree     -3.3\n",
       "20           Mildura     -3.2\n",
       "4      BadgerysCreek     -3.0\n",
       "2             Albury     -2.8\n",
       "12          Dartmoor     -2.7\n",
       "25              Nhil     -2.3\n",
       "44          Watsonia     -2.1\n",
       "22      MountGambier     -2.1\n",
       "10             Cobar     -2.0\n",
       "41             Uluru     -1.9\n",
       "29        PearceRAAF     -1.9\n",
       "45       Williamtown     -1.8\n",
       "33          Portland     -1.5\n",
       "30           Penrith     -1.1\n",
       "32      PerthAirport     -1.0\n",
       "19  MelbourneAirport     -1.0\n",
       "46       Witchcliffe     -0.7\n",
       "31             Perth     -0.6\n",
       "15            Hobart     -0.4\n",
       "11      CoffsHarbour      0.6\n",
       "0           Adelaide      0.7\n",
       "48           Woomera      0.7\n",
       "18         Melbourne      1.5\n",
       "1             Albany      1.8\n",
       "24         Newcastle      2.2\n",
       "43           Walpole      2.6\n",
       "7           Brisbane      2.6\n",
       "38     SydneyAirport      3.2\n",
       "37            Sydney      4.3\n",
       "26         NorahHead      4.6\n",
       "14         GoldCoast      4.9\n",
       "16         Katherine      5.2\n",
       "47        Wollongong      5.4\n",
       "39        Townsville      6.4\n",
       "8             Cairns      9.2\n",
       "27     NorfolkIsland      9.4\n",
       "13            Darwin     12.5"
      ]
     },
     "execution_count": 29,
     "metadata": {},
     "output_type": "execute_result"
    }
   ],
   "source": [
    "# obtener temperatura mínima por ubicación\n",
    "data[[\"Location\", \"MinTemp\"]].groupby([\"Location\"], as_index = False).min().sort_values(by=\"MinTemp\", ascending= True)"
   ]
  },
  {
   "cell_type": "markdown",
   "metadata": {},
   "source": [
    "* La ubicación con la temperatura más baja resgristrada es MountGinini con -8.5 grados."
   ]
  },
  {
   "cell_type": "code",
   "execution_count": 30,
   "metadata": {},
   "outputs": [
    {
     "data": {
      "text/html": [
       "<div>\n",
       "<style scoped>\n",
       "    .dataframe tbody tr th:only-of-type {\n",
       "        vertical-align: middle;\n",
       "    }\n",
       "\n",
       "    .dataframe tbody tr th {\n",
       "        vertical-align: top;\n",
       "    }\n",
       "\n",
       "    .dataframe thead th {\n",
       "        text-align: right;\n",
       "    }\n",
       "</style>\n",
       "<table border=\"1\" class=\"dataframe\">\n",
       "  <thead>\n",
       "    <tr style=\"text-align: right;\">\n",
       "      <th></th>\n",
       "      <th>Location</th>\n",
       "      <th>MaxTemp</th>\n",
       "    </tr>\n",
       "  </thead>\n",
       "  <tbody>\n",
       "    <tr>\n",
       "      <th>48</th>\n",
       "      <td>Woomera</td>\n",
       "      <td>48.1</td>\n",
       "    </tr>\n",
       "    <tr>\n",
       "      <th>21</th>\n",
       "      <td>Moree</td>\n",
       "      <td>47.3</td>\n",
       "    </tr>\n",
       "    <tr>\n",
       "      <th>34</th>\n",
       "      <td>Richmond</td>\n",
       "      <td>47.0</td>\n",
       "    </tr>\n",
       "    <tr>\n",
       "      <th>30</th>\n",
       "      <td>Penrith</td>\n",
       "      <td>46.9</td>\n",
       "    </tr>\n",
       "    <tr>\n",
       "      <th>19</th>\n",
       "      <td>MelbourneAirport</td>\n",
       "      <td>46.8</td>\n",
       "    </tr>\n",
       "    <tr>\n",
       "      <th>44</th>\n",
       "      <td>Watsonia</td>\n",
       "      <td>46.7</td>\n",
       "    </tr>\n",
       "    <tr>\n",
       "      <th>20</th>\n",
       "      <td>Mildura</td>\n",
       "      <td>46.7</td>\n",
       "    </tr>\n",
       "    <tr>\n",
       "      <th>10</th>\n",
       "      <td>Cobar</td>\n",
       "      <td>46.6</td>\n",
       "    </tr>\n",
       "    <tr>\n",
       "      <th>18</th>\n",
       "      <td>Melbourne</td>\n",
       "      <td>46.4</td>\n",
       "    </tr>\n",
       "    <tr>\n",
       "      <th>38</th>\n",
       "      <td>SydneyAirport</td>\n",
       "      <td>46.4</td>\n",
       "    </tr>\n",
       "    <tr>\n",
       "      <th>4</th>\n",
       "      <td>BadgerysCreek</td>\n",
       "      <td>46.4</td>\n",
       "    </tr>\n",
       "    <tr>\n",
       "      <th>36</th>\n",
       "      <td>SalmonGums</td>\n",
       "      <td>46.3</td>\n",
       "    </tr>\n",
       "    <tr>\n",
       "      <th>37</th>\n",
       "      <td>Sydney</td>\n",
       "      <td>45.8</td>\n",
       "    </tr>\n",
       "    <tr>\n",
       "      <th>0</th>\n",
       "      <td>Adelaide</td>\n",
       "      <td>45.7</td>\n",
       "    </tr>\n",
       "    <tr>\n",
       "      <th>45</th>\n",
       "      <td>Williamtown</td>\n",
       "      <td>45.5</td>\n",
       "    </tr>\n",
       "    <tr>\n",
       "      <th>29</th>\n",
       "      <td>PearceRAAF</td>\n",
       "      <td>45.4</td>\n",
       "    </tr>\n",
       "    <tr>\n",
       "      <th>6</th>\n",
       "      <td>Bendigo</td>\n",
       "      <td>45.4</td>\n",
       "    </tr>\n",
       "    <tr>\n",
       "      <th>25</th>\n",
       "      <td>Nhil</td>\n",
       "      <td>45.3</td>\n",
       "    </tr>\n",
       "    <tr>\n",
       "      <th>42</th>\n",
       "      <td>WaggaWagga</td>\n",
       "      <td>45.2</td>\n",
       "    </tr>\n",
       "    <tr>\n",
       "      <th>3</th>\n",
       "      <td>AliceSprings</td>\n",
       "      <td>44.9</td>\n",
       "    </tr>\n",
       "    <tr>\n",
       "      <th>22</th>\n",
       "      <td>MountGambier</td>\n",
       "      <td>44.9</td>\n",
       "    </tr>\n",
       "    <tr>\n",
       "      <th>2</th>\n",
       "      <td>Albury</td>\n",
       "      <td>44.8</td>\n",
       "    </tr>\n",
       "    <tr>\n",
       "      <th>31</th>\n",
       "      <td>Perth</td>\n",
       "      <td>44.4</td>\n",
       "    </tr>\n",
       "    <tr>\n",
       "      <th>12</th>\n",
       "      <td>Dartmoor</td>\n",
       "      <td>44.4</td>\n",
       "    </tr>\n",
       "    <tr>\n",
       "      <th>41</th>\n",
       "      <td>Uluru</td>\n",
       "      <td>44.4</td>\n",
       "    </tr>\n",
       "    <tr>\n",
       "      <th>35</th>\n",
       "      <td>Sale</td>\n",
       "      <td>44.4</td>\n",
       "    </tr>\n",
       "    <tr>\n",
       "      <th>32</th>\n",
       "      <td>PerthAirport</td>\n",
       "      <td>44.2</td>\n",
       "    </tr>\n",
       "    <tr>\n",
       "      <th>5</th>\n",
       "      <td>Ballarat</td>\n",
       "      <td>44.1</td>\n",
       "    </tr>\n",
       "    <tr>\n",
       "      <th>24</th>\n",
       "      <td>Newcastle</td>\n",
       "      <td>44.1</td>\n",
       "    </tr>\n",
       "    <tr>\n",
       "      <th>28</th>\n",
       "      <td>Nuriootpa</td>\n",
       "      <td>44.1</td>\n",
       "    </tr>\n",
       "    <tr>\n",
       "      <th>26</th>\n",
       "      <td>NorahHead</td>\n",
       "      <td>44.0</td>\n",
       "    </tr>\n",
       "    <tr>\n",
       "      <th>33</th>\n",
       "      <td>Portland</td>\n",
       "      <td>42.5</td>\n",
       "    </tr>\n",
       "    <tr>\n",
       "      <th>47</th>\n",
       "      <td>Wollongong</td>\n",
       "      <td>42.4</td>\n",
       "    </tr>\n",
       "    <tr>\n",
       "      <th>9</th>\n",
       "      <td>Canberra</td>\n",
       "      <td>42.0</td>\n",
       "    </tr>\n",
       "    <tr>\n",
       "      <th>16</th>\n",
       "      <td>Katherine</td>\n",
       "      <td>42.0</td>\n",
       "    </tr>\n",
       "    <tr>\n",
       "      <th>15</th>\n",
       "      <td>Hobart</td>\n",
       "      <td>41.8</td>\n",
       "    </tr>\n",
       "    <tr>\n",
       "      <th>40</th>\n",
       "      <td>Tuggeranong</td>\n",
       "      <td>41.1</td>\n",
       "    </tr>\n",
       "    <tr>\n",
       "      <th>46</th>\n",
       "      <td>Witchcliffe</td>\n",
       "      <td>40.6</td>\n",
       "    </tr>\n",
       "    <tr>\n",
       "      <th>43</th>\n",
       "      <td>Walpole</td>\n",
       "      <td>39.4</td>\n",
       "    </tr>\n",
       "    <tr>\n",
       "      <th>11</th>\n",
       "      <td>CoffsHarbour</td>\n",
       "      <td>39.2</td>\n",
       "    </tr>\n",
       "    <tr>\n",
       "      <th>17</th>\n",
       "      <td>Launceston</td>\n",
       "      <td>39.0</td>\n",
       "    </tr>\n",
       "    <tr>\n",
       "      <th>1</th>\n",
       "      <td>Albany</td>\n",
       "      <td>39.0</td>\n",
       "    </tr>\n",
       "    <tr>\n",
       "      <th>7</th>\n",
       "      <td>Brisbane</td>\n",
       "      <td>38.9</td>\n",
       "    </tr>\n",
       "    <tr>\n",
       "      <th>8</th>\n",
       "      <td>Cairns</td>\n",
       "      <td>38.6</td>\n",
       "    </tr>\n",
       "    <tr>\n",
       "      <th>39</th>\n",
       "      <td>Townsville</td>\n",
       "      <td>38.3</td>\n",
       "    </tr>\n",
       "    <tr>\n",
       "      <th>13</th>\n",
       "      <td>Darwin</td>\n",
       "      <td>38.0</td>\n",
       "    </tr>\n",
       "    <tr>\n",
       "      <th>14</th>\n",
       "      <td>GoldCoast</td>\n",
       "      <td>37.9</td>\n",
       "    </tr>\n",
       "    <tr>\n",
       "      <th>23</th>\n",
       "      <td>MountGinini</td>\n",
       "      <td>31.1</td>\n",
       "    </tr>\n",
       "    <tr>\n",
       "      <th>27</th>\n",
       "      <td>NorfolkIsland</td>\n",
       "      <td>28.4</td>\n",
       "    </tr>\n",
       "  </tbody>\n",
       "</table>\n",
       "</div>"
      ],
      "text/plain": [
       "            Location  MaxTemp\n",
       "48           Woomera     48.1\n",
       "21             Moree     47.3\n",
       "34          Richmond     47.0\n",
       "30           Penrith     46.9\n",
       "19  MelbourneAirport     46.8\n",
       "44          Watsonia     46.7\n",
       "20           Mildura     46.7\n",
       "10             Cobar     46.6\n",
       "18         Melbourne     46.4\n",
       "38     SydneyAirport     46.4\n",
       "4      BadgerysCreek     46.4\n",
       "36        SalmonGums     46.3\n",
       "37            Sydney     45.8\n",
       "0           Adelaide     45.7\n",
       "45       Williamtown     45.5\n",
       "29        PearceRAAF     45.4\n",
       "6            Bendigo     45.4\n",
       "25              Nhil     45.3\n",
       "42        WaggaWagga     45.2\n",
       "3       AliceSprings     44.9\n",
       "22      MountGambier     44.9\n",
       "2             Albury     44.8\n",
       "31             Perth     44.4\n",
       "12          Dartmoor     44.4\n",
       "41             Uluru     44.4\n",
       "35              Sale     44.4\n",
       "32      PerthAirport     44.2\n",
       "5           Ballarat     44.1\n",
       "24         Newcastle     44.1\n",
       "28         Nuriootpa     44.1\n",
       "26         NorahHead     44.0\n",
       "33          Portland     42.5\n",
       "47        Wollongong     42.4\n",
       "9           Canberra     42.0\n",
       "16         Katherine     42.0\n",
       "15            Hobart     41.8\n",
       "40       Tuggeranong     41.1\n",
       "46       Witchcliffe     40.6\n",
       "43           Walpole     39.4\n",
       "11      CoffsHarbour     39.2\n",
       "17        Launceston     39.0\n",
       "1             Albany     39.0\n",
       "7           Brisbane     38.9\n",
       "8             Cairns     38.6\n",
       "39        Townsville     38.3\n",
       "13            Darwin     38.0\n",
       "14         GoldCoast     37.9\n",
       "23       MountGinini     31.1\n",
       "27     NorfolkIsland     28.4"
      ]
     },
     "execution_count": 30,
     "metadata": {},
     "output_type": "execute_result"
    }
   ],
   "source": [
    "# obtener temperatura máxima por ubicación\n",
    "data[[\"Location\", \"MaxTemp\"]].groupby([\"Location\"], as_index = False).max().sort_values(by=\"MaxTemp\", ascending= False)"
   ]
  },
  {
   "cell_type": "markdown",
   "metadata": {},
   "source": [
    "* La ubicación con la temperatura más alta es Woomera con 48.1 grados."
   ]
  },
  {
   "cell_type": "code",
   "execution_count": 31,
   "metadata": {},
   "outputs": [
    {
     "data": {
      "text/html": [
       "<div>\n",
       "<style scoped>\n",
       "    .dataframe tbody tr th:only-of-type {\n",
       "        vertical-align: middle;\n",
       "    }\n",
       "\n",
       "    .dataframe tbody tr th {\n",
       "        vertical-align: top;\n",
       "    }\n",
       "\n",
       "    .dataframe thead th {\n",
       "        text-align: right;\n",
       "    }\n",
       "</style>\n",
       "<table border=\"1\" class=\"dataframe\">\n",
       "  <thead>\n",
       "    <tr style=\"text-align: right;\">\n",
       "      <th></th>\n",
       "      <th>Location</th>\n",
       "      <th>Sunshine</th>\n",
       "    </tr>\n",
       "  </thead>\n",
       "  <tbody>\n",
       "    <tr>\n",
       "      <th>44</th>\n",
       "      <td>Watsonia</td>\n",
       "      <td>6.378152</td>\n",
       "    </tr>\n",
       "    <tr>\n",
       "      <th>19</th>\n",
       "      <td>MelbourneAirport</td>\n",
       "      <td>6.381283</td>\n",
       "    </tr>\n",
       "    <tr>\n",
       "      <th>12</th>\n",
       "      <td>Dartmoor</td>\n",
       "      <td>6.412715</td>\n",
       "    </tr>\n",
       "    <tr>\n",
       "      <th>18</th>\n",
       "      <td>Melbourne</td>\n",
       "      <td>6.465776</td>\n",
       "    </tr>\n",
       "    <tr>\n",
       "      <th>33</th>\n",
       "      <td>Portland</td>\n",
       "      <td>6.496751</td>\n",
       "    </tr>\n",
       "    <tr>\n",
       "      <th>22</th>\n",
       "      <td>MountGambier</td>\n",
       "      <td>6.511167</td>\n",
       "    </tr>\n",
       "    <tr>\n",
       "      <th>15</th>\n",
       "      <td>Hobart</td>\n",
       "      <td>6.578324</td>\n",
       "    </tr>\n",
       "    <tr>\n",
       "      <th>1</th>\n",
       "      <td>Albany</td>\n",
       "      <td>6.658765</td>\n",
       "    </tr>\n",
       "    <tr>\n",
       "      <th>35</th>\n",
       "      <td>Sale</td>\n",
       "      <td>6.683663</td>\n",
       "    </tr>\n",
       "    <tr>\n",
       "      <th>27</th>\n",
       "      <td>NorfolkIsland</td>\n",
       "      <td>7.021751</td>\n",
       "    </tr>\n",
       "    <tr>\n",
       "      <th>45</th>\n",
       "      <td>Williamtown</td>\n",
       "      <td>7.140044</td>\n",
       "    </tr>\n",
       "    <tr>\n",
       "      <th>37</th>\n",
       "      <td>Sydney</td>\n",
       "      <td>7.179374</td>\n",
       "    </tr>\n",
       "    <tr>\n",
       "      <th>38</th>\n",
       "      <td>SydneyAirport</td>\n",
       "      <td>7.198126</td>\n",
       "    </tr>\n",
       "    <tr>\n",
       "      <th>11</th>\n",
       "      <td>CoffsHarbour</td>\n",
       "      <td>7.362374</td>\n",
       "    </tr>\n",
       "    <tr>\n",
       "      <th>9</th>\n",
       "      <td>Canberra</td>\n",
       "      <td>7.403241</td>\n",
       "    </tr>\n",
       "    <tr>\n",
       "      <th>8</th>\n",
       "      <td>Cairns</td>\n",
       "      <td>7.575995</td>\n",
       "    </tr>\n",
       "    <tr>\n",
       "      <th>28</th>\n",
       "      <td>Nuriootpa</td>\n",
       "      <td>7.675888</td>\n",
       "    </tr>\n",
       "    <tr>\n",
       "      <th>0</th>\n",
       "      <td>Adelaide</td>\n",
       "      <td>7.752002</td>\n",
       "    </tr>\n",
       "    <tr>\n",
       "      <th>7</th>\n",
       "      <td>Brisbane</td>\n",
       "      <td>8.082782</td>\n",
       "    </tr>\n",
       "    <tr>\n",
       "      <th>42</th>\n",
       "      <td>WaggaWagga</td>\n",
       "      <td>8.197864</td>\n",
       "    </tr>\n",
       "    <tr>\n",
       "      <th>39</th>\n",
       "      <td>Townsville</td>\n",
       "      <td>8.460627</td>\n",
       "    </tr>\n",
       "    <tr>\n",
       "      <th>20</th>\n",
       "      <td>Mildura</td>\n",
       "      <td>8.468104</td>\n",
       "    </tr>\n",
       "    <tr>\n",
       "      <th>13</th>\n",
       "      <td>Darwin</td>\n",
       "      <td>8.499310</td>\n",
       "    </tr>\n",
       "    <tr>\n",
       "      <th>10</th>\n",
       "      <td>Cobar</td>\n",
       "      <td>8.674364</td>\n",
       "    </tr>\n",
       "    <tr>\n",
       "      <th>31</th>\n",
       "      <td>Perth</td>\n",
       "      <td>8.784536</td>\n",
       "    </tr>\n",
       "    <tr>\n",
       "      <th>32</th>\n",
       "      <td>PerthAirport</td>\n",
       "      <td>8.795306</td>\n",
       "    </tr>\n",
       "    <tr>\n",
       "      <th>29</th>\n",
       "      <td>PearceRAAF</td>\n",
       "      <td>8.894160</td>\n",
       "    </tr>\n",
       "    <tr>\n",
       "      <th>21</th>\n",
       "      <td>Moree</td>\n",
       "      <td>8.896590</td>\n",
       "    </tr>\n",
       "    <tr>\n",
       "      <th>48</th>\n",
       "      <td>Woomera</td>\n",
       "      <td>9.063005</td>\n",
       "    </tr>\n",
       "    <tr>\n",
       "      <th>3</th>\n",
       "      <td>AliceSprings</td>\n",
       "      <td>9.581944</td>\n",
       "    </tr>\n",
       "    <tr>\n",
       "      <th>2</th>\n",
       "      <td>Albury</td>\n",
       "      <td>NaN</td>\n",
       "    </tr>\n",
       "    <tr>\n",
       "      <th>4</th>\n",
       "      <td>BadgerysCreek</td>\n",
       "      <td>NaN</td>\n",
       "    </tr>\n",
       "    <tr>\n",
       "      <th>5</th>\n",
       "      <td>Ballarat</td>\n",
       "      <td>NaN</td>\n",
       "    </tr>\n",
       "    <tr>\n",
       "      <th>6</th>\n",
       "      <td>Bendigo</td>\n",
       "      <td>NaN</td>\n",
       "    </tr>\n",
       "    <tr>\n",
       "      <th>14</th>\n",
       "      <td>GoldCoast</td>\n",
       "      <td>NaN</td>\n",
       "    </tr>\n",
       "    <tr>\n",
       "      <th>16</th>\n",
       "      <td>Katherine</td>\n",
       "      <td>NaN</td>\n",
       "    </tr>\n",
       "    <tr>\n",
       "      <th>17</th>\n",
       "      <td>Launceston</td>\n",
       "      <td>NaN</td>\n",
       "    </tr>\n",
       "    <tr>\n",
       "      <th>23</th>\n",
       "      <td>MountGinini</td>\n",
       "      <td>NaN</td>\n",
       "    </tr>\n",
       "    <tr>\n",
       "      <th>24</th>\n",
       "      <td>Newcastle</td>\n",
       "      <td>NaN</td>\n",
       "    </tr>\n",
       "    <tr>\n",
       "      <th>25</th>\n",
       "      <td>Nhil</td>\n",
       "      <td>NaN</td>\n",
       "    </tr>\n",
       "    <tr>\n",
       "      <th>26</th>\n",
       "      <td>NorahHead</td>\n",
       "      <td>NaN</td>\n",
       "    </tr>\n",
       "    <tr>\n",
       "      <th>30</th>\n",
       "      <td>Penrith</td>\n",
       "      <td>NaN</td>\n",
       "    </tr>\n",
       "    <tr>\n",
       "      <th>34</th>\n",
       "      <td>Richmond</td>\n",
       "      <td>NaN</td>\n",
       "    </tr>\n",
       "    <tr>\n",
       "      <th>36</th>\n",
       "      <td>SalmonGums</td>\n",
       "      <td>NaN</td>\n",
       "    </tr>\n",
       "    <tr>\n",
       "      <th>40</th>\n",
       "      <td>Tuggeranong</td>\n",
       "      <td>NaN</td>\n",
       "    </tr>\n",
       "    <tr>\n",
       "      <th>41</th>\n",
       "      <td>Uluru</td>\n",
       "      <td>NaN</td>\n",
       "    </tr>\n",
       "    <tr>\n",
       "      <th>43</th>\n",
       "      <td>Walpole</td>\n",
       "      <td>NaN</td>\n",
       "    </tr>\n",
       "    <tr>\n",
       "      <th>46</th>\n",
       "      <td>Witchcliffe</td>\n",
       "      <td>NaN</td>\n",
       "    </tr>\n",
       "    <tr>\n",
       "      <th>47</th>\n",
       "      <td>Wollongong</td>\n",
       "      <td>NaN</td>\n",
       "    </tr>\n",
       "  </tbody>\n",
       "</table>\n",
       "</div>"
      ],
      "text/plain": [
       "            Location  Sunshine\n",
       "44          Watsonia  6.378152\n",
       "19  MelbourneAirport  6.381283\n",
       "12          Dartmoor  6.412715\n",
       "18         Melbourne  6.465776\n",
       "33          Portland  6.496751\n",
       "22      MountGambier  6.511167\n",
       "15            Hobart  6.578324\n",
       "1             Albany  6.658765\n",
       "35              Sale  6.683663\n",
       "27     NorfolkIsland  7.021751\n",
       "45       Williamtown  7.140044\n",
       "37            Sydney  7.179374\n",
       "38     SydneyAirport  7.198126\n",
       "11      CoffsHarbour  7.362374\n",
       "9           Canberra  7.403241\n",
       "8             Cairns  7.575995\n",
       "28         Nuriootpa  7.675888\n",
       "0           Adelaide  7.752002\n",
       "7           Brisbane  8.082782\n",
       "42        WaggaWagga  8.197864\n",
       "39        Townsville  8.460627\n",
       "20           Mildura  8.468104\n",
       "13            Darwin  8.499310\n",
       "10             Cobar  8.674364\n",
       "31             Perth  8.784536\n",
       "32      PerthAirport  8.795306\n",
       "29        PearceRAAF  8.894160\n",
       "21             Moree  8.896590\n",
       "48           Woomera  9.063005\n",
       "3       AliceSprings  9.581944\n",
       "2             Albury       NaN\n",
       "4      BadgerysCreek       NaN\n",
       "5           Ballarat       NaN\n",
       "6            Bendigo       NaN\n",
       "14         GoldCoast       NaN\n",
       "16         Katherine       NaN\n",
       "17        Launceston       NaN\n",
       "23       MountGinini       NaN\n",
       "24         Newcastle       NaN\n",
       "25              Nhil       NaN\n",
       "26         NorahHead       NaN\n",
       "30           Penrith       NaN\n",
       "34          Richmond       NaN\n",
       "36        SalmonGums       NaN\n",
       "40       Tuggeranong       NaN\n",
       "41             Uluru       NaN\n",
       "43           Walpole       NaN\n",
       "46       Witchcliffe       NaN\n",
       "47        Wollongong       NaN"
      ]
     },
     "execution_count": 31,
     "metadata": {},
     "output_type": "execute_result"
    }
   ],
   "source": [
    "# Obtener promedio de cantidad de sol al día por ubicación\n",
    "data[[\"Location\", \"Sunshine\"]].groupby([\"Location\"], as_index = False).mean().sort_values(by=\"Sunshine\", ascending= True)"
   ]
  },
  {
   "cell_type": "code",
   "execution_count": 32,
   "metadata": {},
   "outputs": [
    {
     "name": "stdout",
     "output_type": "stream",
     "text": [
      "Humedad a las 9am:\n",
      "  RainToday  Humidity9am\n",
      "0        No    65.221578\n",
      "1       Yes    81.413254\n",
      "\n",
      "Humedad a las 3pm:\n",
      "  RainToday  Humidity3pm\n",
      "0        No    47.232683\n",
      "1       Yes    66.179459\n"
     ]
    }
   ],
   "source": [
    "# Cruce columnas cantidad de humedad a las 9am y RainToday\n",
    "lluvia_humedad_9am = data[[\"RainToday\", \"Humidity9am\"]].groupby([\"RainToday\"], as_index=False).mean().sort_values(by=\"Humidity9am\", ascending=True)\n",
    "# Cruce columnas cantidad de humedad a las 3pm y RainToday\n",
    "lluvia_humedad_3pm = data[[\"RainToday\", \"Humidity3pm\"]].groupby([\"RainToday\"], as_index=False).mean().sort_values(by=\"Humidity3pm\", ascending=True)\n",
    "\n",
    "print(\"Humedad a las 9am:\")\n",
    "print(lluvia_humedad_9am)\n",
    "print(\"\\nHumedad a las 3pm:\")\n",
    "print(lluvia_humedad_3pm)"
   ]
  },
  {
   "cell_type": "markdown",
   "metadata": {},
   "source": [
    "* Existe un pequeña diferencia que sugieren que la humedad tiende a ser un poco más alta en los días que llueve en comparación con los días que no llueve, tanto por la mañana como por la tarde"
   ]
  },
  {
   "cell_type": "code",
   "execution_count": 33,
   "metadata": {},
   "outputs": [
    {
     "name": "stdout",
     "output_type": "stream",
     "text": [
      "Presión atmosférica a las 9am:\n",
      "  RainToday  Pressure9am\n",
      "1       Yes  1015.141788\n",
      "0        No  1018.378282\n",
      "\n",
      "Presión atmosférica a las 3pm:\n",
      "  RainToday  Pressure3pm\n",
      "1       Yes  1013.864569\n",
      "0        No  1015.659341\n"
     ]
    }
   ],
   "source": [
    "# Cruce RainToday con la presión atmosférica a las 9am\n",
    "rain_pressure_9am = data[[\"RainToday\", \"Pressure9am\"]].groupby([\"RainToday\"], as_index=False).mean().sort_values(by=\"Pressure9am\", ascending=True)\n",
    "\n",
    "# Cruce RainToday con la presión atmosférica a las 3pm\n",
    "rain_pressure_3pm = data[[\"RainToday\", \"Pressure3pm\"]].groupby([\"RainToday\"], as_index=False).mean().sort_values(by=\"Pressure3pm\", ascending=True)\n",
    "\n",
    "print(\"Presión atmosférica a las 9am:\")\n",
    "print(rain_pressure_9am)\n",
    "print(\"\\nPresión atmosférica a las 3pm:\")\n",
    "print(rain_pressure_3pm)\n"
   ]
  },
  {
   "cell_type": "markdown",
   "metadata": {},
   "source": [
    "\n",
    "x = np.arange(len(labels)) \n",
    "width = 0.35 \n",
    "fig, ax = plt.subplots()\n",
    "ax.bar(x - width/2, humedad_9am, width, label='Humedad 9am', color='pink')\n",
    "ax.bar(x + width/2, humedad_3pm, width, label='Humedad 3pm', color='salmon')\n",
    "ax.set_ylabel('Humedad Promedio')\n",
    "ax.set_title('Humedad Promedio a las 9am y 3pm según la presencia de lluvia')\n",
    "ax.set_xticks(x)\n",
    "ax.set_xticklabels(labels)\n",
    "ax.legend()\n",
    "plt.show()"
   ]
  },
  {
   "cell_type": "code",
   "execution_count": 34,
   "metadata": {},
   "outputs": [
    {
     "name": "stdout",
     "output_type": "stream",
     "text": [
      "Presión atmosférica a las 9am:\n",
      "  RainToday  Pressure9am\n",
      "1       Yes  1015.141788\n",
      "0        No  1018.378282\n",
      "\n",
      "Presión atmosférica a las 3pm:\n",
      "  RainToday  Pressure3pm\n",
      "1       Yes  1013.864569\n",
      "0        No  1015.659341\n"
     ]
    }
   ],
   "source": [
    "# Cruce RainToday con la presión atmosférica a las 9am\n",
    "rain_pressure_9am = data[[\"RainToday\", \"Pressure9am\"]].groupby([\"RainToday\"], as_index=False).mean().sort_values(by=\"Pressure9am\", ascending=True)\n",
    "\n",
    "# Cruce RainToday con la presión atmosférica a las 3pm\n",
    "rain_pressure_3pm = data[[\"RainToday\", \"Pressure3pm\"]].groupby([\"RainToday\"], as_index=False).mean().sort_values(by=\"Pressure3pm\", ascending=True)\n",
    "\n",
    "print(\"Presión atmosférica a las 9am:\")\n",
    "print(rain_pressure_9am)\n",
    "print(\"\\nPresión atmosférica a las 3pm:\")\n",
    "print(rain_pressure_3pm)\n"
   ]
  },
  {
   "cell_type": "markdown",
   "metadata": {},
   "source": [
    "* La presión atmosférica tiende a ser un poco más baja tanto por la mañana como por la tarde en los días que llueve en comparación con los días que no llueve"
   ]
  },
  {
   "cell_type": "code",
   "execution_count": 35,
   "metadata": {},
   "outputs": [],
   "source": [
    "#grafico"
   ]
  },
  {
   "cell_type": "code",
   "execution_count": 36,
   "metadata": {},
   "outputs": [
    {
     "name": "stdout",
     "output_type": "stream",
     "text": [
      "Cantidad de nubes a las 9am:\n",
      "  RainToday  Cloud9am\n",
      "0        No  3.939797\n",
      "1       Yes  6.018474\n",
      "\\Cantidad de nubes a las 3pm:\n",
      "  RainToday  Cloud3pm\n",
      "0        No  4.086652\n",
      "1       Yes  5.827074\n"
     ]
    }
   ],
   "source": [
    "# Cruce RainToday con la cantidad de nubes cubriendo el cielo a las 9am\n",
    "rain_cloud_9am = data[[\"RainToday\", \"Cloud9am\"]].groupby([\"RainToday\"], as_index=False).mean()\n",
    "\n",
    "# Cruce RainToday con la cantidad de nubes cubriendo el cielo a las 3pm\n",
    "rain_cloud_3pm = data[[\"RainToday\", \"Cloud3pm\"]].groupby([\"RainToday\"], as_index=False).mean()\n",
    "\n",
    "print(\"Cantidad de nubes a las 9am:\")\n",
    "print(rain_cloud_9am)\n",
    "print(\"\\Cantidad de nubes a las 3pm:\")\n",
    "print(rain_cloud_3pm)"
   ]
  },
  {
   "cell_type": "markdown",
   "metadata": {},
   "source": [
    "* Los dias que comienza a llover tienen mayor cobertura las nubes en el cielo"
   ]
  },
  {
   "cell_type": "markdown",
   "metadata": {},
   "source": []
  },
  {
   "cell_type": "code",
   "execution_count": null,
   "metadata": {},
   "outputs": [],
   "source": []
  },
  {
   "cell_type": "code",
   "execution_count": 37,
   "metadata": {},
   "outputs": [
    {
     "name": "stdout",
     "output_type": "stream",
     "text": [
      "Cruce de día de lluvia y cantidad de lluvia caída:\n",
      "  RainToday   Rainfall\n",
      "0        No   0.075187\n",
      "1       Yes  10.256732\n"
     ]
    }
   ],
   "source": [
    "# Cruce RainToday con la cantidad de lluvia\n",
    "rain_rainfall = data[[\"RainToday\", \"Rainfall\"]].groupby([\"RainToday\"], as_index=False).mean()\n",
    "\n",
    "print(\"Cruce de día de lluvia y cantidad de lluvia caída:\")\n",
    "print(rain_rainfall)"
   ]
  },
  {
   "cell_type": "markdown",
   "metadata": {},
   "source": [
    "* Promedio de lluvia en mm que cae el día llovido"
   ]
  },
  {
   "cell_type": "code",
   "execution_count": 38,
   "metadata": {},
   "outputs": [
    {
     "data": {
      "image/png": "[encoded data removed]",
      "text/plain": [
       "<Figure size 576x432 with 1 Axes>"
      ]
     },
     "metadata": {
      "needs_background": "light"
     },
     "output_type": "display_data"
    }
   ],
   "source": [
    "\n",
    "\n",
    "# Crear el gráfico de barras\n",
    "plt.figure(figsize=(8, 6))\n",
    "plt.bar(rain_rainfall[\"RainToday\"], rain_rainfall[\"Rainfall\"], color=['blue', 'lightgreen'])\n",
    "plt.xlabel('Lluvia Hoy')\n",
    "plt.ylabel('Cantidad Promedio de Lluvia (mm)')\n",
    "plt.title('Cantidad Promedio de Lluvia según la Presencia de Lluvia')\n",
    "plt.show()\n"
   ]
  },
  {
   "cell_type": "code",
   "execution_count": 39,
   "metadata": {},
   "outputs": [
    {
     "name": "stdout",
     "output_type": "stream",
     "text": [
      "Cruce de temperatura y humedad a las 3pm:\n",
      "     Temp3pm  Humidity3pm\n",
      "0       -5.4         98.0\n",
      "1       -5.1         83.0\n",
      "2       -4.4         97.0\n",
      "3       -4.2         98.0\n",
      "4       -4.1         96.0\n",
      "..       ...          ...\n",
      "495     45.8          3.0\n",
      "496     45.9         14.0\n",
      "497     46.1          9.0\n",
      "498     46.2         14.0\n",
      "499     46.7         10.0\n",
      "\n",
      "[500 rows x 2 columns]\n"
     ]
    }
   ],
   "source": [
    "# Cruce de la temperatura con la humedad a las 3pm \n",
    "temp_humedad = data.groupby([\"Temp3pm\"], as_index=False)[\"Humidity3pm\"].mean()\n",
    "\n",
    "print(\"Cruce de temperatura y humedad a las 3pm:\")\n",
    "print(temp_humedad)"
   ]
  },
  {
   "cell_type": "markdown",
   "metadata": {},
   "source": [
    "* Se realiza el cruce de la humedad a las 3pm porque a esa hora del día, las temperaturas suelen alcanzar su punto máximo y es más probable que ocurra la lluvia"
   ]
  },
  {
   "cell_type": "code",
   "execution_count": 40,
   "metadata": {},
   "outputs": [
    {
     "data": {
      "image/png": "[encoded data removed]",
      "text/plain": [
       "<Figure size 720x432 with 1 Axes>"
      ]
     },
     "metadata": {
      "needs_background": "light"
     },
     "output_type": "display_data"
    }
   ],
   "source": [
    "\n",
    "temperatura = temp_humedad[\"Temp3pm\"]\n",
    "humedad = temp_humedad[\"Humidity3pm\"]\n",
    "\n",
    "plt.figure(figsize=(10, 6))\n",
    "plt.scatter(temperatura, humedad, color='pink', alpha=0.5)\n",
    "plt.title('Relación entre Temperatura y Humedad a las 3pm')\n",
    "plt.xlabel('Temperatura (°C)')\n",
    "plt.ylabel('Humedad (%)')\n",
    "plt.grid(True)\n",
    "plt.show()"
   ]
  },
  {
   "cell_type": "code",
   "execution_count": 41,
   "metadata": {},
   "outputs": [
    {
     "name": "stdout",
     "output_type": "stream",
     "text": [
      "Cruce de dirección de ráfaga de viento más fuerte y día de lluvia:\n",
      "   WindGustDir RainToday  size\n",
      "0            E        No  7677\n",
      "1            E       Yes  1308\n",
      "2          ENE        No  6743\n",
      "3          ENE       Yes  1181\n",
      "4          ESE        No  5983\n",
      "5          ESE       Yes  1261\n",
      "6            N        No  7552\n",
      "7            N       Yes  1389\n",
      "8           NE        No  6077\n",
      "9           NE       Yes   925\n",
      "10         NNE        No  5480\n",
      "11         NNE       Yes   892\n",
      "12         NNW        No  5242\n",
      "13         NNW       Yes  1269\n",
      "14          NW        No  6108\n",
      "15          NW       Yes  1831\n",
      "16           S        No  6431\n",
      "17           S       Yes  2428\n",
      "18          SE        No  7363\n",
      "19          SE       Yes  1878\n",
      "20         SSE        No  6858\n",
      "21         SSE       Yes  2047\n",
      "22         SSW        No  6082\n",
      "23         SSW       Yes  2459\n",
      "24          SW        No  6219\n",
      "25          SW       Yes  2483\n",
      "26           W        No  6761\n",
      "27           W       Yes  2935\n",
      "28         WNW        No  5791\n",
      "29         WNW       Yes  2169\n",
      "30         WSW        No  6182\n",
      "31         WSW       Yes  2620\n"
     ]
    }
   ],
   "source": [
    "# Cruce de Dirección de ráfaga de viento más fuerte y día de lluvia\n",
    "dirección_viento_lluvia = data[[\"WindGustDir\", \"RainToday\"]].groupby([\"WindGustDir\", \"RainToday\"], as_index=False).size()\n",
    "\n",
    "print(\"Cruce de dirección de ráfaga de viento más fuerte y día de lluvia:\")\n",
    "print(dirección_viento_lluvia)\n"
   ]
  },
  {
   "cell_type": "markdown",
   "metadata": {},
   "source": [
    "* Cruce de las columnas WindGustDir y RainToday donde se puede obtener que dirección de ráfaga de viento más fuerte toman cuando llueve y no llueve"
   ]
  },
  {
   "cell_type": "code",
   "execution_count": 42,
   "metadata": {},
   "outputs": [
    {
     "name": "stderr",
     "output_type": "stream",
     "text": [
      "No artists with labels found to put in legend.  Note that artists whose label start with an underscore are ignored when legend() is called with no argument.\n"
     ]
    },
    {
     "data": {
      "image/png": "[encoded data removed]",
      "text/plain": [
       "<Figure size 720x432 with 1 Axes>"
      ]
     },
     "metadata": {
      "needs_background": "light"
     },
     "output_type": "display_data"
    }
   ],
   "source": [
    "dirección_viento_lluvia_df = pd.DataFrame(dirección_viento_lluvia)\n",
    "colors = ['gold', 'blue']\n",
    "plt.figure(figsize=(10, 6))\n",
    "plt.bar(dirección_viento_lluvia_df[\"WindGustDir\"], dirección_viento_lluvia_df[\"size\"], color=colors)\n",
    "plt.xlabel('Dirección de Ráfaga de Viento')\n",
    "plt.ylabel('Cantidad de Días')\n",
    "plt.title('Cruce de Dirección de Ráfaga de Viento y Día de Lluvia')\n",
    "plt.legend(title='Lluvia', loc='upper right')\n",
    "plt.xticks(rotation=45)\n",
    "plt.tight_layout()\n",
    "plt.show()"
   ]
  },
  {
   "cell_type": "code",
   "execution_count": 43,
   "metadata": {},
   "outputs": [
    {
     "data": {
      "image/png": "[encoded data removed]",
      "text/plain": [
       "<Figure size 432x288 with 1 Axes>"
      ]
     },
     "metadata": {
      "needs_background": "light"
     },
     "output_type": "display_data"
    }
   ],
   "source": [
    "colors = ['gold', 'blue']\n",
    "dirección_viento_lluvia.plot(kind='bar', stacked=True, color=colors)\n",
    "plt.xlabel('Dirección de Ráfaga de Viento')\n",
    "plt.ylabel('Cantidad de Días')\n",
    "plt.title('Cruce de Dirección de Ráfaga de Viento y Día de Lluvia')\n",
    "plt.legend(title='Lluvia', loc='upper right')\n",
    "plt.xticks(rotation=45)\n",
    "plt.tight_layout()\n",
    "plt.show()"
   ]
  },
  {
   "cell_type": "code",
   "execution_count": 44,
   "metadata": {},
   "outputs": [
    {
     "data": {
      "text/plain": [
       "<Figure size 720x432 with 0 Axes>"
      ]
     },
     "metadata": {},
     "output_type": "display_data"
    },
    {
     "data": {
      "image/png": "[encoded data removed]",
      "text/plain": [
       "<Figure size 432x288 with 1 Axes>"
      ]
     },
     "metadata": {
      "needs_background": "light"
     },
     "output_type": "display_data"
    }
   ],
   "source": [
    "plt.figure(figsize=(10, 6))\n",
    "colors = ['gold', 'blue']\n",
    "dirección_viento_lluvia.plot(kind='bar', stacked=True, color=colors)\n",
    "plt.xlabel('Dirección de Ráfaga de Viento')\n",
    "plt.ylabel('Cantidad de Días')\n",
    "plt.title('Cruce de Dirección de Ráfaga de Viento y Día de Lluvia')\n",
    "plt.legend(title='Lluvia', loc='upper right')\n",
    "plt.xticks(rotation=45)\n",
    "plt.tight_layout()\n",
    "plt.show()"
   ]
  },
  {
   "cell_type": "code",
   "execution_count": 45,
   "metadata": {},
   "outputs": [
    {
     "name": "stdout",
     "output_type": "stream",
     "text": [
      "Cruce de velocidad de ráfaga de viento más fuerte y día de lluvia:\n",
      "     WindGustSpeed RainToday  size\n",
      "0              6.0        No     1\n",
      "1              7.0        No    17\n",
      "2              7.0       Yes     1\n",
      "3              9.0        No    86\n",
      "4              9.0       Yes     5\n",
      "..             ...       ...   ...\n",
      "120          122.0        No     2\n",
      "121          124.0        No     2\n",
      "122          126.0       Yes     2\n",
      "123          130.0        No     1\n",
      "124          135.0       Yes     2\n",
      "\n",
      "[125 rows x 3 columns]\n"
     ]
    }
   ],
   "source": [
    "# Cruce de Velocidad de ráfaga de viento más fuerte y día de lluvia\n",
    "velocidad_viento_lluvia = data[[\"WindGustSpeed\", \"RainToday\"]].groupby([\"WindGustSpeed\", \"RainToday\"], as_index=False).size()\n",
    "\n",
    "print(\"Cruce de velocidad de ráfaga de viento más fuerte y día de lluvia:\")\n",
    "print(velocidad_viento_lluvia)"
   ]
  },
  {
   "cell_type": "markdown",
   "metadata": {},
   "source": [
    "* Cruce de las columnas WindGustDir y RainToday donde se puede obtener que velocidad de ráfaga de viento más fuerte toman cuando llueve y no llueve"
   ]
  },
  {
   "cell_type": "markdown",
   "metadata": {},
   "source": []
  },
  {
   "cell_type": "code",
   "execution_count": 46,
   "metadata": {},
   "outputs": [
    {
     "data": {
      "image/png": "[encoded data removed]",
      "text/plain": [
       "<Figure size 1008x720 with 1 Axes>"
      ]
     },
     "metadata": {
      "needs_background": "light"
     },
     "output_type": "display_data"
    }
   ],
   "source": [
    "colors = ['orange', 'red']\n",
    "velocidad_viento_lluvia.plot(kind='bar', stacked=True, color=colors, figsize=(14, 10))\n",
    "plt.xlabel('Velocidad de Ráfaga de Viento')\n",
    "plt.ylabel('Cantidad de Días')\n",
    "plt.title('Cruce de Velocidad de Ráfaga de Viento y Día de Lluvia')\n",
    "plt.legend(title='Lluvia', loc='upper right')\n",
    "plt.xticks(rotation=90)\n",
    "plt.tight_layout()\n",
    "plt.show()\n"
   ]
  },
  {
   "cell_type": "markdown",
   "metadata": {},
   "source": [
    "* Cruce de las columnas WindGustDir y RainToday donde se puede obtener que dirección de ráfaga de viento más fuerte toman cuando llueve"
   ]
  },
  {
   "cell_type": "code",
   "execution_count": 47,
   "metadata": {},
   "outputs": [
    {
     "name": "stdout",
     "output_type": "stream",
     "text": [
      "Cruce de Dirección de ráfaga de viento más fuerte y día de lluvia\n",
      "   WindGustDir RainToday  size\n",
      "0            E       Yes  1308\n",
      "1          ENE       Yes  1181\n",
      "2          ESE       Yes  1261\n",
      "3            N       Yes  1389\n",
      "4           NE       Yes   925\n",
      "5          NNE       Yes   892\n",
      "6          NNW       Yes  1269\n",
      "7           NW       Yes  1831\n",
      "8            S       Yes  2428\n",
      "9           SE       Yes  1878\n",
      "10         SSE       Yes  2047\n",
      "11         SSW       Yes  2459\n",
      "12          SW       Yes  2483\n",
      "13           W       Yes  2935\n",
      "14         WNW       Yes  2169\n",
      "15         WSW       Yes  2620\n"
     ]
    }
   ],
   "source": [
    "data_lluvia = data[data[\"RainToday\"] == \"Yes\"]\n",
    "\n",
    "# Cruce de Dirección de ráfaga de viento más fuerte y día de lluvia\n",
    "dirección_viento_lluvia = data_lluvia[[\"WindGustDir\", \"RainToday\"]].groupby([\"WindGustDir\", \"RainToday\"], as_index=False).size()\n",
    "\n",
    "print(\"Cruce de Dirección de ráfaga de viento más fuerte y día de lluvia\")\n",
    "print(dirección_viento_lluvia)"
   ]
  },
  {
   "cell_type": "markdown",
   "metadata": {},
   "source": [
    "\n",
    "* La dirección de viento más común durante los días de lluvia es hacia el oeste (W), luego las direcciones suroeste (WSW) y sureste (SE)."
   ]
  },
  {
   "cell_type": "code",
   "execution_count": 48,
   "metadata": {},
   "outputs": [
    {
     "data": {
      "image/png": "[encoded data removed]",
      "text/plain": [
       "<Figure size 720x432 with 1 Axes>"
      ]
     },
     "metadata": {
      "needs_background": "light"
     },
     "output_type": "display_data"
    }
   ],
   "source": [
    "plt.figure(figsize=(10, 6))\n",
    "plt.bar(dirección_viento_lluvia[\"WindGustDir\"], dirección_viento_lluvia[\"size\"], color='royalblue')\n",
    "plt.xlabel('Dirección de Ráfaga de Viento Más Fuerte')\n",
    "plt.ylabel('Cantidad de Días de Lluvia')\n",
    "plt.title('Cantidad de Días de Lluvia por Dirección de Ráfaga de Viento Más Fuerte')\n",
    "plt.xticks(rotation=45, ha='right')\n",
    "plt.tight_layout()\n",
    "plt.show()"
   ]
  },
  {
   "cell_type": "code",
   "execution_count": 49,
   "metadata": {},
   "outputs": [
    {
     "name": "stdout",
     "output_type": "stream",
     "text": [
      "Cruce de Velocidad de ráfaga de viento más fuerte y día de lluvia\n",
      "    WindGustSpeed RainToday  size\n",
      "0             7.0       Yes     1\n",
      "1             9.0       Yes     5\n",
      "2            11.0       Yes    16\n",
      "3            13.0       Yes    69\n",
      "4            15.0       Yes    83\n",
      "..            ...       ...   ...\n",
      "56          111.0       Yes     2\n",
      "57          113.0       Yes     2\n",
      "58          117.0       Yes     4\n",
      "59          126.0       Yes     2\n",
      "60          135.0       Yes     2\n",
      "\n",
      "[61 rows x 3 columns]\n"
     ]
    }
   ],
   "source": [
    "data_lluvia = data[data[\"RainToday\"] == \"Yes\"]\n",
    "\n",
    "# Cruce de Velocidad de ráfaga de viento más fuerte y día de lluvia\n",
    "velocidad_viento_lluvia = data_lluvia[[\"WindGustSpeed\", \"RainToday\"]].groupby([\"WindGustSpeed\", \"RainToday\"], as_index=False).size()\n",
    "\n",
    "print(\"Cruce de Velocidad de ráfaga de viento más fuerte y día de lluvia\")\n",
    "print(velocidad_viento_lluvia)"
   ]
  },
  {
   "cell_type": "markdown",
   "metadata": {},
   "source": [
    "* Cruce de las columnas WindGustDir y RainToday donde se puede obtener que velocidad de ráfaga de viento más fuerte toman cuando llueve"
   ]
  },
  {
   "cell_type": "code",
   "execution_count": 50,
   "metadata": {},
   "outputs": [
    {
     "data": {
      "image/png": "[encoded data removed]",
      "text/plain": [
       "<Figure size 864x432 with 1 Axes>"
      ]
     },
     "metadata": {
      "needs_background": "light"
     },
     "output_type": "display_data"
    }
   ],
   "source": [
    "plt.figure(figsize=(12, 6))\n",
    "plt.bar(velocidad_viento_lluvia[\"WindGustSpeed\"], velocidad_viento_lluvia[\"size\"], color='purple')\n",
    "plt.xlabel('Velocidad de Ráfaga de Viento Más Fuerte (km/h)')\n",
    "plt.ylabel('Cantidad de Días de Lluvia')\n",
    "plt.title('Cantidad de Días de Lluvia por Velocidad de Ráfaga de Viento Más Fuerte')\n",
    "plt.tight_layout()\n",
    "plt.show()\n"
   ]
  },
  {
   "cell_type": "markdown",
   "metadata": {},
   "source": [
    "\n",
    "* Creación de una nueva columna 'RainTomorrow' para saber si lloverá o no al día siguiente"
   ]
  },
  {
   "cell_type": "code",
   "execution_count": 51,
   "metadata": {},
   "outputs": [
    {
     "name": "stdout",
     "output_type": "stream",
     "text": [
      "WindGustSpeed  7.0    9.0                  11.0                               \\\n",
      "WindSpeed9am    0.0    2.0           4.0    0.0                                \n",
      "WindSpeed3pm    0.0    0.0           2.0    0.0           2.0                  \n",
      "Humidity9am    74.0   84.0   86.0   100.0  90.0   99.0   98.0   100.0          \n",
      "Humidity3pm    42.0   50.0   71.0   75.0   68.0   54.0   63.0   79.0   83.0    \n",
      "Pressure9am   1009.7 1026.7 1020.4 1024.8 1033.7 1029.3 1030.6 1031.9 1014.1   \n",
      "Pressure3pm   1004.1 1023.3 1017.3 1024.4 1033.4 1026.7 1026.7 1029.9 1011.9   \n",
      "Cloud9am         6.0    7.0    7.0    7.0    7.0    7.0    8.0    7.0    8.0   \n",
      "Cloud3pm         4.0    7.0    5.0    7.0    7.0    6.0    2.0    6.0    7.0   \n",
      "Temp9am         30.1   17.7   18.4   9.8    10.5   4.1    7.3    7.5    4.5    \n",
      "Temp3pm         37.5   21.8   22.2   14.7   13.2   16.0   16.6   14.1   10.2   \n",
      "RainTomorrow                                                                   \n",
      "No                 1      1      1      1      1      1      1      1      1   \n",
      "Yes                0      0      0      0      0      0      0      0      0   \n",
      "\n",
      "WindGustSpeed         ...  115.0         117.0         120.0  122.0         \\\n",
      "WindSpeed9am          ...   37.0   44.0   22.0   30.0   13.0   11.0   26.0   \n",
      "WindSpeed3pm          ...   63.0   41.0   17.0   46.0   28.0   30.0   35.0   \n",
      "Humidity9am           ...  58.0   56.0   81.0   67.0   56.0   21.0   48.0    \n",
      "Humidity3pm    100.0  ...  6.0    31.0   36.0   73.0   34.0   17.0   27.0    \n",
      "Pressure9am   1017.2  ... 1001.7 1008.3 1015.0 998.9  1011.5 1009.0 1006.5   \n",
      "Pressure3pm   1011.9  ... 997.3  999.8  1011.2 1007.2 1007.4 1006.9 1002.7   \n",
      "Cloud9am         8.0  ...    4.0    5.0    7.0    3.0    1.0    4.0    8.0   \n",
      "Cloud3pm         8.0  ...    8.0    1.0    3.0    6.0    7.0    5.0    7.0   \n",
      "Temp9am         11.4  ...   21.6   15.5   21.1   14.2   30.5   32.4   22.4   \n",
      "Temp3pm         12.8  ...   28.9   24.4   29.9   10.1   36.1   35.8   29.4   \n",
      "RainTomorrow          ...                                                    \n",
      "No                 0  ...      1      0      0      0      0      1      0   \n",
      "Yes                1  ...      0      1      1      1      1      0      1   \n",
      "\n",
      "WindGustSpeed  124.0  126.0  135.0  \n",
      "WindSpeed9am    31.0   31.0   65.0  \n",
      "WindSpeed3pm    50.0   33.0   41.0  \n",
      "Humidity9am    39.0   95.0   83.0   \n",
      "Humidity3pm    44.0   94.0   89.0   \n",
      "Pressure9am   987.2  1003.7 1004.0  \n",
      "Pressure3pm   985.3  1004.0 1006.0  \n",
      "Cloud9am         7.0    8.0    8.0  \n",
      "Cloud3pm         7.0    8.0    8.0  \n",
      "Temp9am         21.5   26.2   27.2  \n",
      "Temp3pm         22.6   26.5   26.7  \n",
      "RainTomorrow                        \n",
      "No                 1      0      0  \n",
      "Yes                0      1      1  \n",
      "\n",
      "[2 rows x 73716 columns]\n"
     ]
    }
   ],
   "source": [
    "relevant_columns = [\"WindGustSpeed\", \"WindSpeed9am\", \"WindSpeed3pm\",\n",
    "                    \"Humidity9am\", \"Humidity3pm\", \"Pressure9am\", \"Pressure3pm\",\n",
    "                    \"Cloud9am\", \"Cloud3pm\", \"Temp9am\", \"Temp3pm\", \"RainTomorrow\"]\n",
    "\n",
    "# Obtener los datos relevantes\n",
    "data_relevant = data[relevant_columns]\n",
    "\n",
    "# Calcular la frecuencia de ocurrencia de cada combinación de valores\n",
    "cross_tab = pd.crosstab(index=data_relevant[\"RainTomorrow\"], columns=[\n",
    "                        data_relevant[\"WindGustSpeed\"], data_relevant[\"WindSpeed9am\"],\n",
    "                        data_relevant[\"WindSpeed3pm\"], data_relevant[\"Humidity9am\"],\n",
    "                        data_relevant[\"Humidity3pm\"], data_relevant[\"Pressure9am\"],\n",
    "                        data_relevant[\"Pressure3pm\"], data_relevant[\"Cloud9am\"],\n",
    "                        data_relevant[\"Cloud3pm\"], data_relevant[\"Temp9am\"],\n",
    "                        data_relevant[\"Temp3pm\"]])\n",
    "\n",
    "# Mostrar los resultados\n",
    "print(cross_tab)"
   ]
  },
  {
   "cell_type": "code",
   "execution_count": null,
   "metadata": {},
   "outputs": [],
   "source": []
  },
  {
   "cell_type": "markdown",
   "metadata": {},
   "source": [
    "# Anomalias"
   ]
  },
  {
   "cell_type": "code",
   "execution_count": 52,
   "metadata": {},
   "outputs": [],
   "source": [
    "def fc_anomalias(df, cols):\n",
    "    anomalias_indices = []\n",
    "    \n",
    "    for col in cols:\n",
    "        # Primer cuartil\n",
    "        Q1 = np.percentile(df[col], 25)\n",
    "        # Tercer cuartil\n",
    "        Q3 = np.percentile(df[col], 75)\n",
    "        # IQR\n",
    "        IQR = Q3 - Q1\n",
    "        \n",
    "        # Paso de anomalía\n",
    "        anomalia_paso = IQR * 1.5\n",
    "        \n",
    "        # Detectar anomalías y sus índices\n",
    "        indices_anomalias = df[(df[col] < Q1 - anomalia_paso) | (df[col] > Q3 + anomalia_paso)].index\n",
    "        anomalias_indices.extend(indices_anomalias)\n",
    "        \n",
    "    anomalias_indices = Counter(anomalias_indices)\n",
    "    # Filtrar índices de anomalías múltiples\n",
    "    multiple_anomalias = [i for i, v in anomalias_indices.items() if v > 0]\n",
    "    \n",
    "    return multiple_anomalias"
   ]
  },
  {
   "cell_type": "code",
   "execution_count": 53,
   "metadata": {},
   "outputs": [
    {
     "data": {
      "text/html": [
       "<div>\n",
       "<style scoped>\n",
       "    .dataframe tbody tr th:only-of-type {\n",
       "        vertical-align: middle;\n",
       "    }\n",
       "\n",
       "    .dataframe tbody tr th {\n",
       "        vertical-align: top;\n",
       "    }\n",
       "\n",
       "    .dataframe thead th {\n",
       "        text-align: right;\n",
       "    }\n",
       "</style>\n",
       "<table border=\"1\" class=\"dataframe\">\n",
       "  <thead>\n",
       "    <tr style=\"text-align: right;\">\n",
       "      <th></th>\n",
       "      <th>Date</th>\n",
       "      <th>Location</th>\n",
       "      <th>MinTemp</th>\n",
       "      <th>MaxTemp</th>\n",
       "      <th>Rainfall</th>\n",
       "      <th>Evaporation</th>\n",
       "      <th>Sunshine</th>\n",
       "      <th>WindGustDir</th>\n",
       "      <th>WindGustSpeed</th>\n",
       "      <th>WindDir9am</th>\n",
       "      <th>...</th>\n",
       "      <th>Humidity3pm</th>\n",
       "      <th>Pressure9am</th>\n",
       "      <th>Pressure3pm</th>\n",
       "      <th>Cloud9am</th>\n",
       "      <th>Cloud3pm</th>\n",
       "      <th>Temp9am</th>\n",
       "      <th>Temp3pm</th>\n",
       "      <th>RainToday</th>\n",
       "      <th>RISK_MM</th>\n",
       "      <th>RainTomorrow</th>\n",
       "    </tr>\n",
       "  </thead>\n",
       "  <tbody>\n",
       "    <tr>\n",
       "      <th>10</th>\n",
       "      <td>2008-12-11</td>\n",
       "      <td>Albury</td>\n",
       "      <td>13.4</td>\n",
       "      <td>30.4</td>\n",
       "      <td>0.0</td>\n",
       "      <td>NaN</td>\n",
       "      <td>NaN</td>\n",
       "      <td>N</td>\n",
       "      <td>30.0</td>\n",
       "      <td>SSE</td>\n",
       "      <td>...</td>\n",
       "      <td>22.0</td>\n",
       "      <td>1011.8</td>\n",
       "      <td>1008.7</td>\n",
       "      <td>NaN</td>\n",
       "      <td>NaN</td>\n",
       "      <td>20.4</td>\n",
       "      <td>28.8</td>\n",
       "      <td>No</td>\n",
       "      <td>2.2</td>\n",
       "      <td>Yes</td>\n",
       "    </tr>\n",
       "    <tr>\n",
       "      <th>11</th>\n",
       "      <td>2008-12-12</td>\n",
       "      <td>Albury</td>\n",
       "      <td>15.9</td>\n",
       "      <td>21.7</td>\n",
       "      <td>2.2</td>\n",
       "      <td>NaN</td>\n",
       "      <td>NaN</td>\n",
       "      <td>NNE</td>\n",
       "      <td>31.0</td>\n",
       "      <td>NE</td>\n",
       "      <td>...</td>\n",
       "      <td>91.0</td>\n",
       "      <td>1010.5</td>\n",
       "      <td>1004.2</td>\n",
       "      <td>8.0</td>\n",
       "      <td>8.0</td>\n",
       "      <td>15.9</td>\n",
       "      <td>17.0</td>\n",
       "      <td>Yes</td>\n",
       "      <td>15.6</td>\n",
       "      <td>Yes</td>\n",
       "    </tr>\n",
       "    <tr>\n",
       "      <th>12</th>\n",
       "      <td>2008-12-13</td>\n",
       "      <td>Albury</td>\n",
       "      <td>15.9</td>\n",
       "      <td>18.6</td>\n",
       "      <td>15.6</td>\n",
       "      <td>NaN</td>\n",
       "      <td>NaN</td>\n",
       "      <td>W</td>\n",
       "      <td>61.0</td>\n",
       "      <td>NNW</td>\n",
       "      <td>...</td>\n",
       "      <td>93.0</td>\n",
       "      <td>994.3</td>\n",
       "      <td>993.0</td>\n",
       "      <td>8.0</td>\n",
       "      <td>8.0</td>\n",
       "      <td>17.4</td>\n",
       "      <td>15.8</td>\n",
       "      <td>Yes</td>\n",
       "      <td>3.6</td>\n",
       "      <td>Yes</td>\n",
       "    </tr>\n",
       "    <tr>\n",
       "      <th>15</th>\n",
       "      <td>2008-12-17</td>\n",
       "      <td>Albury</td>\n",
       "      <td>14.1</td>\n",
       "      <td>20.9</td>\n",
       "      <td>0.0</td>\n",
       "      <td>NaN</td>\n",
       "      <td>NaN</td>\n",
       "      <td>ENE</td>\n",
       "      <td>22.0</td>\n",
       "      <td>SSW</td>\n",
       "      <td>...</td>\n",
       "      <td>82.0</td>\n",
       "      <td>1012.2</td>\n",
       "      <td>1010.4</td>\n",
       "      <td>8.0</td>\n",
       "      <td>1.0</td>\n",
       "      <td>17.2</td>\n",
       "      <td>18.1</td>\n",
       "      <td>No</td>\n",
       "      <td>16.8</td>\n",
       "      <td>Yes</td>\n",
       "    </tr>\n",
       "    <tr>\n",
       "      <th>16</th>\n",
       "      <td>2008-12-18</td>\n",
       "      <td>Albury</td>\n",
       "      <td>13.5</td>\n",
       "      <td>22.9</td>\n",
       "      <td>16.8</td>\n",
       "      <td>NaN</td>\n",
       "      <td>NaN</td>\n",
       "      <td>W</td>\n",
       "      <td>63.0</td>\n",
       "      <td>N</td>\n",
       "      <td>...</td>\n",
       "      <td>65.0</td>\n",
       "      <td>1005.8</td>\n",
       "      <td>1002.2</td>\n",
       "      <td>8.0</td>\n",
       "      <td>1.0</td>\n",
       "      <td>18.0</td>\n",
       "      <td>21.5</td>\n",
       "      <td>Yes</td>\n",
       "      <td>10.6</td>\n",
       "      <td>Yes</td>\n",
       "    </tr>\n",
       "    <tr>\n",
       "      <th>...</th>\n",
       "      <td>...</td>\n",
       "      <td>...</td>\n",
       "      <td>...</td>\n",
       "      <td>...</td>\n",
       "      <td>...</td>\n",
       "      <td>...</td>\n",
       "      <td>...</td>\n",
       "      <td>...</td>\n",
       "      <td>...</td>\n",
       "      <td>...</td>\n",
       "      <td>...</td>\n",
       "      <td>...</td>\n",
       "      <td>...</td>\n",
       "      <td>...</td>\n",
       "      <td>...</td>\n",
       "      <td>...</td>\n",
       "      <td>...</td>\n",
       "      <td>...</td>\n",
       "      <td>...</td>\n",
       "      <td>...</td>\n",
       "      <td>...</td>\n",
       "    </tr>\n",
       "    <tr>\n",
       "      <th>142059</th>\n",
       "      <td>2017-02-10</td>\n",
       "      <td>Uluru</td>\n",
       "      <td>24.8</td>\n",
       "      <td>39.8</td>\n",
       "      <td>0.4</td>\n",
       "      <td>NaN</td>\n",
       "      <td>NaN</td>\n",
       "      <td>WNW</td>\n",
       "      <td>65.0</td>\n",
       "      <td>E</td>\n",
       "      <td>...</td>\n",
       "      <td>24.0</td>\n",
       "      <td>1007.0</td>\n",
       "      <td>1003.6</td>\n",
       "      <td>NaN</td>\n",
       "      <td>NaN</td>\n",
       "      <td>31.5</td>\n",
       "      <td>36.6</td>\n",
       "      <td>No</td>\n",
       "      <td>6.2</td>\n",
       "      <td>Yes</td>\n",
       "    </tr>\n",
       "    <tr>\n",
       "      <th>142124</th>\n",
       "      <td>2017-04-17</td>\n",
       "      <td>Uluru</td>\n",
       "      <td>19.3</td>\n",
       "      <td>24.4</td>\n",
       "      <td>0.0</td>\n",
       "      <td>NaN</td>\n",
       "      <td>NaN</td>\n",
       "      <td>W</td>\n",
       "      <td>35.0</td>\n",
       "      <td>ESE</td>\n",
       "      <td>...</td>\n",
       "      <td>91.0</td>\n",
       "      <td>1015.9</td>\n",
       "      <td>1013.9</td>\n",
       "      <td>8.0</td>\n",
       "      <td>8.0</td>\n",
       "      <td>21.3</td>\n",
       "      <td>18.5</td>\n",
       "      <td>No</td>\n",
       "      <td>6.8</td>\n",
       "      <td>Yes</td>\n",
       "    </tr>\n",
       "    <tr>\n",
       "      <th>142125</th>\n",
       "      <td>2017-04-18</td>\n",
       "      <td>Uluru</td>\n",
       "      <td>15.2</td>\n",
       "      <td>21.5</td>\n",
       "      <td>6.8</td>\n",
       "      <td>NaN</td>\n",
       "      <td>NaN</td>\n",
       "      <td>ENE</td>\n",
       "      <td>30.0</td>\n",
       "      <td>NE</td>\n",
       "      <td>...</td>\n",
       "      <td>65.0</td>\n",
       "      <td>1016.9</td>\n",
       "      <td>1015.3</td>\n",
       "      <td>3.0</td>\n",
       "      <td>8.0</td>\n",
       "      <td>19.0</td>\n",
       "      <td>21.2</td>\n",
       "      <td>Yes</td>\n",
       "      <td>12.6</td>\n",
       "      <td>Yes</td>\n",
       "    </tr>\n",
       "    <tr>\n",
       "      <th>142126</th>\n",
       "      <td>2017-04-19</td>\n",
       "      <td>Uluru</td>\n",
       "      <td>17.7</td>\n",
       "      <td>26.9</td>\n",
       "      <td>12.6</td>\n",
       "      <td>NaN</td>\n",
       "      <td>NaN</td>\n",
       "      <td>S</td>\n",
       "      <td>35.0</td>\n",
       "      <td>E</td>\n",
       "      <td>...</td>\n",
       "      <td>59.0</td>\n",
       "      <td>1018.1</td>\n",
       "      <td>1014.7</td>\n",
       "      <td>7.0</td>\n",
       "      <td>8.0</td>\n",
       "      <td>19.0</td>\n",
       "      <td>26.0</td>\n",
       "      <td>Yes</td>\n",
       "      <td>34.6</td>\n",
       "      <td>Yes</td>\n",
       "    </tr>\n",
       "    <tr>\n",
       "      <th>142127</th>\n",
       "      <td>2017-04-20</td>\n",
       "      <td>Uluru</td>\n",
       "      <td>18.6</td>\n",
       "      <td>28.6</td>\n",
       "      <td>34.6</td>\n",
       "      <td>NaN</td>\n",
       "      <td>NaN</td>\n",
       "      <td>E</td>\n",
       "      <td>46.0</td>\n",
       "      <td>E</td>\n",
       "      <td>...</td>\n",
       "      <td>56.0</td>\n",
       "      <td>1020.0</td>\n",
       "      <td>1015.8</td>\n",
       "      <td>8.0</td>\n",
       "      <td>5.0</td>\n",
       "      <td>19.8</td>\n",
       "      <td>26.9</td>\n",
       "      <td>Yes</td>\n",
       "      <td>3.8</td>\n",
       "      <td>Yes</td>\n",
       "    </tr>\n",
       "  </tbody>\n",
       "</table>\n",
       "<p>25573 rows × 24 columns</p>\n",
       "</div>"
      ],
      "text/plain": [
       "              Date Location  MinTemp  MaxTemp  Rainfall  Evaporation  \\\n",
       "10      2008-12-11   Albury     13.4     30.4       0.0          NaN   \n",
       "11      2008-12-12   Albury     15.9     21.7       2.2          NaN   \n",
       "12      2008-12-13   Albury     15.9     18.6      15.6          NaN   \n",
       "15      2008-12-17   Albury     14.1     20.9       0.0          NaN   \n",
       "16      2008-12-18   Albury     13.5     22.9      16.8          NaN   \n",
       "...            ...      ...      ...      ...       ...          ...   \n",
       "142059  2017-02-10    Uluru     24.8     39.8       0.4          NaN   \n",
       "142124  2017-04-17    Uluru     19.3     24.4       0.0          NaN   \n",
       "142125  2017-04-18    Uluru     15.2     21.5       6.8          NaN   \n",
       "142126  2017-04-19    Uluru     17.7     26.9      12.6          NaN   \n",
       "142127  2017-04-20    Uluru     18.6     28.6      34.6          NaN   \n",
       "\n",
       "        Sunshine WindGustDir  WindGustSpeed WindDir9am  ... Humidity3pm  \\\n",
       "10           NaN           N           30.0        SSE  ...        22.0   \n",
       "11           NaN         NNE           31.0         NE  ...        91.0   \n",
       "12           NaN           W           61.0        NNW  ...        93.0   \n",
       "15           NaN         ENE           22.0        SSW  ...        82.0   \n",
       "16           NaN           W           63.0          N  ...        65.0   \n",
       "...          ...         ...            ...        ...  ...         ...   \n",
       "142059       NaN         WNW           65.0          E  ...        24.0   \n",
       "142124       NaN           W           35.0        ESE  ...        91.0   \n",
       "142125       NaN         ENE           30.0         NE  ...        65.0   \n",
       "142126       NaN           S           35.0          E  ...        59.0   \n",
       "142127       NaN           E           46.0          E  ...        56.0   \n",
       "\n",
       "        Pressure9am  Pressure3pm  Cloud9am  Cloud3pm  Temp9am  Temp3pm  \\\n",
       "10           1011.8       1008.7       NaN       NaN     20.4     28.8   \n",
       "11           1010.5       1004.2       8.0       8.0     15.9     17.0   \n",
       "12            994.3        993.0       8.0       8.0     17.4     15.8   \n",
       "15           1012.2       1010.4       8.0       1.0     17.2     18.1   \n",
       "16           1005.8       1002.2       8.0       1.0     18.0     21.5   \n",
       "...             ...          ...       ...       ...      ...      ...   \n",
       "142059       1007.0       1003.6       NaN       NaN     31.5     36.6   \n",
       "142124       1015.9       1013.9       8.0       8.0     21.3     18.5   \n",
       "142125       1016.9       1015.3       3.0       8.0     19.0     21.2   \n",
       "142126       1018.1       1014.7       7.0       8.0     19.0     26.0   \n",
       "142127       1020.0       1015.8       8.0       5.0     19.8     26.9   \n",
       "\n",
       "        RainToday  RISK_MM  RainTomorrow  \n",
       "10             No      2.2           Yes  \n",
       "11            Yes     15.6           Yes  \n",
       "12            Yes      3.6           Yes  \n",
       "15             No     16.8           Yes  \n",
       "16            Yes     10.6           Yes  \n",
       "...           ...      ...           ...  \n",
       "142059         No      6.2           Yes  \n",
       "142124         No      6.8           Yes  \n",
       "142125        Yes     12.6           Yes  \n",
       "142126        Yes     34.6           Yes  \n",
       "142127        Yes      3.8           Yes  \n",
       "\n",
       "[25573 rows x 24 columns]"
      ]
     },
     "execution_count": 53,
     "metadata": {},
     "output_type": "execute_result"
    }
   ],
   "source": [
    "# Llamar a la función con las columnas especificadas\n",
    "data.loc[fc_anomalias(data,['MinTemp', 'MaxTemp', 'Rainfall', 'Evaporation', 'Sunshine', 'WindGustSpeed', 'WindSpeed9am', 'WindSpeed3pm', 'Humidity9am', 'Humidity3pm', 'Pressure9am', 'Pressure3pm', 'Cloud9am', 'Cloud3pm', 'Temp9am', 'Temp3pm', 'RISK_MM'])]"
   ]
  },
  {
   "cell_type": "code",
   "execution_count": 54,
   "metadata": {},
   "outputs": [],
   "source": [
    "#Eliminando anomalías\n",
    "data = data.drop(fc_anomalias(data,['MinTemp', 'MaxTemp', 'Rainfall', 'Evaporation', 'Sunshine', 'WindGustSpeed', 'WindSpeed9am', 'WindSpeed3pm', 'Humidity9am', 'Humidity3pm', 'Pressure9am', 'Pressure3pm', 'Cloud9am', 'Cloud3pm', 'Temp9am', 'Temp3pm', 'RISK_MM']),axis=0).reset_index(drop=True)"
   ]
  },
  {
   "cell_type": "code",
   "execution_count": 55,
   "metadata": {},
   "outputs": [],
   "source": [
    "#Eliminando anomalías restantes\n",
    "data = data.drop(fc_anomalias(data,['MinTemp', 'MaxTemp', 'Rainfall', 'Evaporation', 'Sunshine', 'WindGustSpeed', 'WindSpeed9am', 'WindSpeed3pm', 'Humidity9am', 'Humidity3pm', 'Pressure9am', 'Pressure3pm', 'Cloud9am', 'Cloud3pm', 'Temp9am', 'Temp3pm', 'RISK_MM']),axis=0).reset_index(drop=True)"
   ]
  },
  {
   "cell_type": "code",
   "execution_count": 56,
   "metadata": {},
   "outputs": [
    {
     "data": {
      "text/html": [
       "<div>\n",
       "<style scoped>\n",
       "    .dataframe tbody tr th:only-of-type {\n",
       "        vertical-align: middle;\n",
       "    }\n",
       "\n",
       "    .dataframe tbody tr th {\n",
       "        vertical-align: top;\n",
       "    }\n",
       "\n",
       "    .dataframe thead th {\n",
       "        text-align: right;\n",
       "    }\n",
       "</style>\n",
       "<table border=\"1\" class=\"dataframe\">\n",
       "  <thead>\n",
       "    <tr style=\"text-align: right;\">\n",
       "      <th></th>\n",
       "      <th>Date</th>\n",
       "      <th>Location</th>\n",
       "      <th>MinTemp</th>\n",
       "      <th>MaxTemp</th>\n",
       "      <th>Rainfall</th>\n",
       "      <th>Evaporation</th>\n",
       "      <th>Sunshine</th>\n",
       "      <th>WindGustDir</th>\n",
       "      <th>WindGustSpeed</th>\n",
       "      <th>WindDir9am</th>\n",
       "      <th>...</th>\n",
       "      <th>Humidity3pm</th>\n",
       "      <th>Pressure9am</th>\n",
       "      <th>Pressure3pm</th>\n",
       "      <th>Cloud9am</th>\n",
       "      <th>Cloud3pm</th>\n",
       "      <th>Temp9am</th>\n",
       "      <th>Temp3pm</th>\n",
       "      <th>RainToday</th>\n",
       "      <th>RISK_MM</th>\n",
       "      <th>RainTomorrow</th>\n",
       "    </tr>\n",
       "  </thead>\n",
       "  <tbody>\n",
       "  </tbody>\n",
       "</table>\n",
       "<p>0 rows × 24 columns</p>\n",
       "</div>"
      ],
      "text/plain": [
       "Empty DataFrame\n",
       "Columns: [Date, Location, MinTemp, MaxTemp, Rainfall, Evaporation, Sunshine, WindGustDir, WindGustSpeed, WindDir9am, WindDir3pm, WindSpeed9am, WindSpeed3pm, Humidity9am, Humidity3pm, Pressure9am, Pressure3pm, Cloud9am, Cloud3pm, Temp9am, Temp3pm, RainToday, RISK_MM, RainTomorrow]\n",
       "Index: []\n",
       "\n",
       "[0 rows x 24 columns]"
      ]
     },
     "execution_count": 56,
     "metadata": {},
     "output_type": "execute_result"
    }
   ],
   "source": [
    "# VErificando si se eliminaron\n",
    "data.loc[fc_anomalias(data,['MinTemp', 'MaxTemp', 'Rainfall', 'Evaporation', 'Sunshine', 'WindGustSpeed', 'WindSpeed9am', 'WindSpeed3pm', 'Humidity9am', 'Humidity3pm', 'Pressure9am', 'Pressure3pm', 'Cloud9am', 'Cloud3pm', 'Temp9am', 'Temp3pm', 'RISK_MM'])]"
   ]
  },
  {
   "cell_type": "markdown",
   "metadata": {},
   "source": [
    "# Buscando valores nulos"
   ]
  },
  {
   "cell_type": "code",
   "execution_count": 57,
   "metadata": {},
   "outputs": [
    {
     "data": {
      "text/plain": [
       "Index(['MinTemp', 'MaxTemp', 'Rainfall', 'Evaporation', 'Sunshine',\n",
       "       'WindGustDir', 'WindGustSpeed', 'WindDir9am', 'WindDir3pm',\n",
       "       'WindSpeed9am', 'WindSpeed3pm', 'Humidity9am', 'Humidity3pm',\n",
       "       'Pressure9am', 'Pressure3pm', 'Cloud9am', 'Cloud3pm', 'Temp9am',\n",
       "       'Temp3pm', 'RainToday'],\n",
       "      dtype='object')"
      ]
     },
     "execution_count": 57,
     "metadata": {},
     "output_type": "execute_result"
    }
   ],
   "source": [
    "# identificando columnas con datos nulos\n",
    "data.columns[data.isnull().any()]"
   ]
  },
  {
   "cell_type": "code",
   "execution_count": 58,
   "metadata": {},
   "outputs": [
    {
     "data": {
      "text/plain": [
       "Sunshine         43343\n",
       "Evaporation      38223\n",
       "Cloud3pm         37628\n",
       "Cloud9am         34963\n",
       "Pressure9am       8751\n",
       "Pressure3pm       8713\n",
       "WindDir9am        6412\n",
       "WindGustDir       5588\n",
       "WindGustSpeed     5561\n",
       "Humidity3pm       2180\n",
       "WindDir3pm        2146\n",
       "Temp3pm           1667\n",
       "WindSpeed3pm      1597\n",
       "Humidity9am        916\n",
       "WindSpeed9am       849\n",
       "RainToday          488\n",
       "Rainfall           488\n",
       "Temp9am            440\n",
       "MinTemp            376\n",
       "MaxTemp            237\n",
       "RISK_MM              0\n",
       "Date                 0\n",
       "Location             0\n",
       "RainTomorrow         0\n",
       "dtype: int64"
      ]
     },
     "execution_count": 58,
     "metadata": {},
     "output_type": "execute_result"
    }
   ],
   "source": [
    "# viendo la cantidad de nulos de cada columna\n",
    "data.isnull().sum().sort_values(ascending=False)"
   ]
  },
  {
   "cell_type": "markdown",
   "metadata": {},
   "source": [
    "# Reemplazando valores nulos"
   ]
  },
  {
   "cell_type": "code",
   "execution_count": 59,
   "metadata": {},
   "outputs": [
    {
     "name": "stdout",
     "output_type": "stream",
     "text": [
      "0        10.0\n",
      "1        10.0\n",
      "2        10.0\n",
      "3        10.0\n",
      "4        10.0\n",
      "         ... \n",
      "91072    21.3\n",
      "91073    21.3\n",
      "91074    21.3\n",
      "91075    21.3\n",
      "91076    21.3\n",
      "Name: MinTemp, Length: 91077, dtype: float64\n"
     ]
    }
   ],
   "source": [
    "# Buscaremos la moda de la temperatura mínima según la ubicación\n",
    "moda_mintemp = data.groupby('Location')['MinTemp'].transform(lambda x: x.mode()[0] if not x.mode().empty else np.nan)\n",
    "print(moda_mintemp)"
   ]
  },
  {
   "cell_type": "code",
   "execution_count": 60,
   "metadata": {},
   "outputs": [],
   "source": [
    "# reemplazando los nulos por moda según ubicación\n",
    "data[\"MinTemp\"].fillna(moda_mintemp, inplace=True)"
   ]
  },
  {
   "cell_type": "code",
   "execution_count": 61,
   "metadata": {},
   "outputs": [
    {
     "data": {
      "text/html": [
       "<div>\n",
       "<style scoped>\n",
       "    .dataframe tbody tr th:only-of-type {\n",
       "        vertical-align: middle;\n",
       "    }\n",
       "\n",
       "    .dataframe tbody tr th {\n",
       "        vertical-align: top;\n",
       "    }\n",
       "\n",
       "    .dataframe thead th {\n",
       "        text-align: right;\n",
       "    }\n",
       "</style>\n",
       "<table border=\"1\" class=\"dataframe\">\n",
       "  <thead>\n",
       "    <tr style=\"text-align: right;\">\n",
       "      <th></th>\n",
       "      <th>Date</th>\n",
       "      <th>Location</th>\n",
       "      <th>MinTemp</th>\n",
       "      <th>MaxTemp</th>\n",
       "      <th>Rainfall</th>\n",
       "      <th>Evaporation</th>\n",
       "      <th>Sunshine</th>\n",
       "      <th>WindGustDir</th>\n",
       "      <th>WindGustSpeed</th>\n",
       "      <th>WindDir9am</th>\n",
       "      <th>...</th>\n",
       "      <th>Humidity3pm</th>\n",
       "      <th>Pressure9am</th>\n",
       "      <th>Pressure3pm</th>\n",
       "      <th>Cloud9am</th>\n",
       "      <th>Cloud3pm</th>\n",
       "      <th>Temp9am</th>\n",
       "      <th>Temp3pm</th>\n",
       "      <th>RainToday</th>\n",
       "      <th>RISK_MM</th>\n",
       "      <th>RainTomorrow</th>\n",
       "    </tr>\n",
       "  </thead>\n",
       "  <tbody>\n",
       "  </tbody>\n",
       "</table>\n",
       "<p>0 rows × 24 columns</p>\n",
       "</div>"
      ],
      "text/plain": [
       "Empty DataFrame\n",
       "Columns: [Date, Location, MinTemp, MaxTemp, Rainfall, Evaporation, Sunshine, WindGustDir, WindGustSpeed, WindDir9am, WindDir3pm, WindSpeed9am, WindSpeed3pm, Humidity9am, Humidity3pm, Pressure9am, Pressure3pm, Cloud9am, Cloud3pm, Temp9am, Temp3pm, RainToday, RISK_MM, RainTomorrow]\n",
       "Index: []\n",
       "\n",
       "[0 rows x 24 columns]"
      ]
     },
     "execution_count": 61,
     "metadata": {},
     "output_type": "execute_result"
    }
   ],
   "source": [
    "# visulizando si quedan nulos\n",
    "data[data[\"MinTemp\"].isnull()]"
   ]
  },
  {
   "cell_type": "code",
   "execution_count": 62,
   "metadata": {},
   "outputs": [
    {
     "name": "stdout",
     "output_type": "stream",
     "text": [
      "0        28.3\n",
      "1        28.3\n",
      "2        28.3\n",
      "3        28.3\n",
      "4        28.3\n",
      "         ... \n",
      "91072    36.6\n",
      "91073    36.6\n",
      "91074    36.6\n",
      "91075    36.6\n",
      "91076    36.6\n",
      "Name: MaxTemp, Length: 91077, dtype: float64\n"
     ]
    }
   ],
   "source": [
    "# Buscaremos la moda de la temperatura máxima según la ubicación\n",
    "moda_maxtemp = data.groupby('Location')['MaxTemp'].transform(lambda x: x.mode()[0] if not x.mode().empty else np.nan)\n",
    "print(moda_maxtemp)"
   ]
  },
  {
   "cell_type": "code",
   "execution_count": 63,
   "metadata": {},
   "outputs": [],
   "source": [
    "# reemplazando los nulos por moda según ubicación\n",
    "data[\"MaxTemp\"].fillna(moda_maxtemp, inplace=True)"
   ]
  },
  {
   "cell_type": "code",
   "execution_count": 64,
   "metadata": {},
   "outputs": [
    {
     "data": {
      "text/html": [
       "<div>\n",
       "<style scoped>\n",
       "    .dataframe tbody tr th:only-of-type {\n",
       "        vertical-align: middle;\n",
       "    }\n",
       "\n",
       "    .dataframe tbody tr th {\n",
       "        vertical-align: top;\n",
       "    }\n",
       "\n",
       "    .dataframe thead th {\n",
       "        text-align: right;\n",
       "    }\n",
       "</style>\n",
       "<table border=\"1\" class=\"dataframe\">\n",
       "  <thead>\n",
       "    <tr style=\"text-align: right;\">\n",
       "      <th></th>\n",
       "      <th>Date</th>\n",
       "      <th>Location</th>\n",
       "      <th>MinTemp</th>\n",
       "      <th>MaxTemp</th>\n",
       "      <th>Rainfall</th>\n",
       "      <th>Evaporation</th>\n",
       "      <th>Sunshine</th>\n",
       "      <th>WindGustDir</th>\n",
       "      <th>WindGustSpeed</th>\n",
       "      <th>WindDir9am</th>\n",
       "      <th>...</th>\n",
       "      <th>Humidity3pm</th>\n",
       "      <th>Pressure9am</th>\n",
       "      <th>Pressure3pm</th>\n",
       "      <th>Cloud9am</th>\n",
       "      <th>Cloud3pm</th>\n",
       "      <th>Temp9am</th>\n",
       "      <th>Temp3pm</th>\n",
       "      <th>RainToday</th>\n",
       "      <th>RISK_MM</th>\n",
       "      <th>RainTomorrow</th>\n",
       "    </tr>\n",
       "  </thead>\n",
       "  <tbody>\n",
       "  </tbody>\n",
       "</table>\n",
       "<p>0 rows × 24 columns</p>\n",
       "</div>"
      ],
      "text/plain": [
       "Empty DataFrame\n",
       "Columns: [Date, Location, MinTemp, MaxTemp, Rainfall, Evaporation, Sunshine, WindGustDir, WindGustSpeed, WindDir9am, WindDir3pm, WindSpeed9am, WindSpeed3pm, Humidity9am, Humidity3pm, Pressure9am, Pressure3pm, Cloud9am, Cloud3pm, Temp9am, Temp3pm, RainToday, RISK_MM, RainTomorrow]\n",
       "Index: []\n",
       "\n",
       "[0 rows x 24 columns]"
      ]
     },
     "execution_count": 64,
     "metadata": {},
     "output_type": "execute_result"
    }
   ],
   "source": [
    "# visulizando si quedan nulos\n",
    "data[data[\"MaxTemp\"].isnull()]"
   ]
  },
  {
   "cell_type": "code",
   "execution_count": 65,
   "metadata": {},
   "outputs": [],
   "source": [
    "# Convertir los valores catagóricos dede 'RainTomorrow' en numericos ('Yes' -> 1, 'No' -> 0)\n",
    "data['RainTomorrow_num'] = data['RainTomorrow'].map({'Yes': 1, 'No': 0})"
   ]
  },
  {
   "cell_type": "code",
   "execution_count": 66,
   "metadata": {},
   "outputs": [],
   "source": [
    "# buscando el promedio de RainTomorrow según ubicación\n",
    "prom_raint = data.groupby('Location')['RainTomorrow_num'].mean()"
   ]
  },
  {
   "cell_type": "code",
   "execution_count": 67,
   "metadata": {},
   "outputs": [],
   "source": [
    "# reemplazando los nulos por promedio según ubicación\n",
    "data[\"RainTomorrow\"].fillna(prom_raint, inplace=True)"
   ]
  },
  {
   "cell_type": "code",
   "execution_count": 68,
   "metadata": {},
   "outputs": [
    {
     "data": {
      "text/html": [
       "<div>\n",
       "<style scoped>\n",
       "    .dataframe tbody tr th:only-of-type {\n",
       "        vertical-align: middle;\n",
       "    }\n",
       "\n",
       "    .dataframe tbody tr th {\n",
       "        vertical-align: top;\n",
       "    }\n",
       "\n",
       "    .dataframe thead th {\n",
       "        text-align: right;\n",
       "    }\n",
       "</style>\n",
       "<table border=\"1\" class=\"dataframe\">\n",
       "  <thead>\n",
       "    <tr style=\"text-align: right;\">\n",
       "      <th></th>\n",
       "      <th>Date</th>\n",
       "      <th>Location</th>\n",
       "      <th>MinTemp</th>\n",
       "      <th>MaxTemp</th>\n",
       "      <th>Rainfall</th>\n",
       "      <th>Evaporation</th>\n",
       "      <th>Sunshine</th>\n",
       "      <th>WindGustDir</th>\n",
       "      <th>WindGustSpeed</th>\n",
       "      <th>WindDir9am</th>\n",
       "      <th>...</th>\n",
       "      <th>Pressure9am</th>\n",
       "      <th>Pressure3pm</th>\n",
       "      <th>Cloud9am</th>\n",
       "      <th>Cloud3pm</th>\n",
       "      <th>Temp9am</th>\n",
       "      <th>Temp3pm</th>\n",
       "      <th>RainToday</th>\n",
       "      <th>RISK_MM</th>\n",
       "      <th>RainTomorrow</th>\n",
       "      <th>RainTomorrow_num</th>\n",
       "    </tr>\n",
       "  </thead>\n",
       "  <tbody>\n",
       "  </tbody>\n",
       "</table>\n",
       "<p>0 rows × 25 columns</p>\n",
       "</div>"
      ],
      "text/plain": [
       "Empty DataFrame\n",
       "Columns: [Date, Location, MinTemp, MaxTemp, Rainfall, Evaporation, Sunshine, WindGustDir, WindGustSpeed, WindDir9am, WindDir3pm, WindSpeed9am, WindSpeed3pm, Humidity9am, Humidity3pm, Pressure9am, Pressure3pm, Cloud9am, Cloud3pm, Temp9am, Temp3pm, RainToday, RISK_MM, RainTomorrow, RainTomorrow_num]\n",
       "Index: []\n",
       "\n",
       "[0 rows x 25 columns]"
      ]
     },
     "execution_count": 68,
     "metadata": {},
     "output_type": "execute_result"
    }
   ],
   "source": [
    "# visulizando si quedan nulos\n",
    "data[data[\"RainTomorrow\"].isnull()]"
   ]
  },
  {
   "cell_type": "code",
   "execution_count": 69,
   "metadata": {},
   "outputs": [],
   "source": [
    "# Convertir los valores catagóricos dede 'RainToday' en numericos ('Yes' -> 1, 'No' -> 0)\n",
    "data['RainToday_num'] = data['RainToday'].map({'Yes': 1, 'No': 0})"
   ]
  },
  {
   "cell_type": "code",
   "execution_count": 70,
   "metadata": {},
   "outputs": [],
   "source": [
    "# buscando el promedio de RainToday según ubicación\n",
    "prom_rainToday = data.groupby('Location')['RainToday_num'].transform('mean')"
   ]
  },
  {
   "cell_type": "code",
   "execution_count": 71,
   "metadata": {},
   "outputs": [],
   "source": [
    "# reemplazando los nulos por promedio según ubicación\n",
    "data[\"RainToday\"].fillna(prom_rainToday, inplace=True)"
   ]
  },
  {
   "cell_type": "code",
   "execution_count": 72,
   "metadata": {},
   "outputs": [
    {
     "data": {
      "text/html": [
       "<div>\n",
       "<style scoped>\n",
       "    .dataframe tbody tr th:only-of-type {\n",
       "        vertical-align: middle;\n",
       "    }\n",
       "\n",
       "    .dataframe tbody tr th {\n",
       "        vertical-align: top;\n",
       "    }\n",
       "\n",
       "    .dataframe thead th {\n",
       "        text-align: right;\n",
       "    }\n",
       "</style>\n",
       "<table border=\"1\" class=\"dataframe\">\n",
       "  <thead>\n",
       "    <tr style=\"text-align: right;\">\n",
       "      <th></th>\n",
       "      <th>Date</th>\n",
       "      <th>Location</th>\n",
       "      <th>MinTemp</th>\n",
       "      <th>MaxTemp</th>\n",
       "      <th>Rainfall</th>\n",
       "      <th>Evaporation</th>\n",
       "      <th>Sunshine</th>\n",
       "      <th>WindGustDir</th>\n",
       "      <th>WindGustSpeed</th>\n",
       "      <th>WindDir9am</th>\n",
       "      <th>...</th>\n",
       "      <th>Pressure3pm</th>\n",
       "      <th>Cloud9am</th>\n",
       "      <th>Cloud3pm</th>\n",
       "      <th>Temp9am</th>\n",
       "      <th>Temp3pm</th>\n",
       "      <th>RainToday</th>\n",
       "      <th>RISK_MM</th>\n",
       "      <th>RainTomorrow</th>\n",
       "      <th>RainTomorrow_num</th>\n",
       "      <th>RainToday_num</th>\n",
       "    </tr>\n",
       "  </thead>\n",
       "  <tbody>\n",
       "  </tbody>\n",
       "</table>\n",
       "<p>0 rows × 26 columns</p>\n",
       "</div>"
      ],
      "text/plain": [
       "Empty DataFrame\n",
       "Columns: [Date, Location, MinTemp, MaxTemp, Rainfall, Evaporation, Sunshine, WindGustDir, WindGustSpeed, WindDir9am, WindDir3pm, WindSpeed9am, WindSpeed3pm, Humidity9am, Humidity3pm, Pressure9am, Pressure3pm, Cloud9am, Cloud3pm, Temp9am, Temp3pm, RainToday, RISK_MM, RainTomorrow, RainTomorrow_num, RainToday_num]\n",
       "Index: []\n",
       "\n",
       "[0 rows x 26 columns]"
      ]
     },
     "execution_count": 72,
     "metadata": {},
     "output_type": "execute_result"
    }
   ],
   "source": [
    "# visulizando si quedan nulos\n",
    "data[data[\"RainToday\"].isnull()]"
   ]
  },
  {
   "cell_type": "code",
   "execution_count": 73,
   "metadata": {},
   "outputs": [],
   "source": [
    "# buscando el promedio de Temp9am según ubicación\n",
    "prom_temp9 = data.groupby('Location')['Temp9am'].transform('mean')"
   ]
  },
  {
   "cell_type": "code",
   "execution_count": 74,
   "metadata": {},
   "outputs": [],
   "source": [
    "# reemplazando los nulos por promedio según ubicación\n",
    "data[\"Temp9am\"].fillna(prom_temp9, inplace=True)"
   ]
  },
  {
   "cell_type": "code",
   "execution_count": 75,
   "metadata": {},
   "outputs": [
    {
     "data": {
      "text/html": [
       "<div>\n",
       "<style scoped>\n",
       "    .dataframe tbody tr th:only-of-type {\n",
       "        vertical-align: middle;\n",
       "    }\n",
       "\n",
       "    .dataframe tbody tr th {\n",
       "        vertical-align: top;\n",
       "    }\n",
       "\n",
       "    .dataframe thead th {\n",
       "        text-align: right;\n",
       "    }\n",
       "</style>\n",
       "<table border=\"1\" class=\"dataframe\">\n",
       "  <thead>\n",
       "    <tr style=\"text-align: right;\">\n",
       "      <th></th>\n",
       "      <th>Date</th>\n",
       "      <th>Location</th>\n",
       "      <th>MinTemp</th>\n",
       "      <th>MaxTemp</th>\n",
       "      <th>Rainfall</th>\n",
       "      <th>Evaporation</th>\n",
       "      <th>Sunshine</th>\n",
       "      <th>WindGustDir</th>\n",
       "      <th>WindGustSpeed</th>\n",
       "      <th>WindDir9am</th>\n",
       "      <th>...</th>\n",
       "      <th>Pressure3pm</th>\n",
       "      <th>Cloud9am</th>\n",
       "      <th>Cloud3pm</th>\n",
       "      <th>Temp9am</th>\n",
       "      <th>Temp3pm</th>\n",
       "      <th>RainToday</th>\n",
       "      <th>RISK_MM</th>\n",
       "      <th>RainTomorrow</th>\n",
       "      <th>RainTomorrow_num</th>\n",
       "      <th>RainToday_num</th>\n",
       "    </tr>\n",
       "  </thead>\n",
       "  <tbody>\n",
       "  </tbody>\n",
       "</table>\n",
       "<p>0 rows × 26 columns</p>\n",
       "</div>"
      ],
      "text/plain": [
       "Empty DataFrame\n",
       "Columns: [Date, Location, MinTemp, MaxTemp, Rainfall, Evaporation, Sunshine, WindGustDir, WindGustSpeed, WindDir9am, WindDir3pm, WindSpeed9am, WindSpeed3pm, Humidity9am, Humidity3pm, Pressure9am, Pressure3pm, Cloud9am, Cloud3pm, Temp9am, Temp3pm, RainToday, RISK_MM, RainTomorrow, RainTomorrow_num, RainToday_num]\n",
       "Index: []\n",
       "\n",
       "[0 rows x 26 columns]"
      ]
     },
     "execution_count": 75,
     "metadata": {},
     "output_type": "execute_result"
    }
   ],
   "source": [
    "# visulizando si quedan nulos\n",
    "data[data[\"Temp9am\"].isnull()]"
   ]
  },
  {
   "cell_type": "code",
   "execution_count": 76,
   "metadata": {},
   "outputs": [],
   "source": [
    "# buscando el promedio de Temp3pm según ubicación\n",
    "prom_temp3 = data.groupby('Location')['Temp3pm'].transform('mean')"
   ]
  },
  {
   "cell_type": "code",
   "execution_count": 77,
   "metadata": {},
   "outputs": [],
   "source": [
    "# reemplazando los nulos por promedio según ubicación\n",
    "data[\"Temp3pm\"].fillna(prom_temp3, inplace=True)"
   ]
  },
  {
   "cell_type": "code",
   "execution_count": 78,
   "metadata": {},
   "outputs": [
    {
     "data": {
      "text/html": [
       "<div>\n",
       "<style scoped>\n",
       "    .dataframe tbody tr th:only-of-type {\n",
       "        vertical-align: middle;\n",
       "    }\n",
       "\n",
       "    .dataframe tbody tr th {\n",
       "        vertical-align: top;\n",
       "    }\n",
       "\n",
       "    .dataframe thead th {\n",
       "        text-align: right;\n",
       "    }\n",
       "</style>\n",
       "<table border=\"1\" class=\"dataframe\">\n",
       "  <thead>\n",
       "    <tr style=\"text-align: right;\">\n",
       "      <th></th>\n",
       "      <th>Date</th>\n",
       "      <th>Location</th>\n",
       "      <th>MinTemp</th>\n",
       "      <th>MaxTemp</th>\n",
       "      <th>Rainfall</th>\n",
       "      <th>Evaporation</th>\n",
       "      <th>Sunshine</th>\n",
       "      <th>WindGustDir</th>\n",
       "      <th>WindGustSpeed</th>\n",
       "      <th>WindDir9am</th>\n",
       "      <th>...</th>\n",
       "      <th>Pressure3pm</th>\n",
       "      <th>Cloud9am</th>\n",
       "      <th>Cloud3pm</th>\n",
       "      <th>Temp9am</th>\n",
       "      <th>Temp3pm</th>\n",
       "      <th>RainToday</th>\n",
       "      <th>RISK_MM</th>\n",
       "      <th>RainTomorrow</th>\n",
       "      <th>RainTomorrow_num</th>\n",
       "      <th>RainToday_num</th>\n",
       "    </tr>\n",
       "  </thead>\n",
       "  <tbody>\n",
       "  </tbody>\n",
       "</table>\n",
       "<p>0 rows × 26 columns</p>\n",
       "</div>"
      ],
      "text/plain": [
       "Empty DataFrame\n",
       "Columns: [Date, Location, MinTemp, MaxTemp, Rainfall, Evaporation, Sunshine, WindGustDir, WindGustSpeed, WindDir9am, WindDir3pm, WindSpeed9am, WindSpeed3pm, Humidity9am, Humidity3pm, Pressure9am, Pressure3pm, Cloud9am, Cloud3pm, Temp9am, Temp3pm, RainToday, RISK_MM, RainTomorrow, RainTomorrow_num, RainToday_num]\n",
       "Index: []\n",
       "\n",
       "[0 rows x 26 columns]"
      ]
     },
     "execution_count": 78,
     "metadata": {},
     "output_type": "execute_result"
    }
   ],
   "source": [
    "# visulizando si quedan nulos\n",
    "data[data[\"Temp3pm\"].isnull()]"
   ]
  },
  {
   "cell_type": "code",
   "execution_count": 79,
   "metadata": {},
   "outputs": [],
   "source": [
    "# buscando el promedio de Rainfall según ubicación\n",
    "prom_rainfall = data.groupby('Location')['Rainfall'].transform('mean')"
   ]
  },
  {
   "cell_type": "code",
   "execution_count": 80,
   "metadata": {},
   "outputs": [],
   "source": [
    "# reemplazando los nulos por promedio según ubicación\n",
    "data[\"Rainfall\"].fillna(prom_rainfall, inplace=True)"
   ]
  },
  {
   "cell_type": "code",
   "execution_count": 81,
   "metadata": {},
   "outputs": [
    {
     "data": {
      "text/html": [
       "<div>\n",
       "<style scoped>\n",
       "    .dataframe tbody tr th:only-of-type {\n",
       "        vertical-align: middle;\n",
       "    }\n",
       "\n",
       "    .dataframe tbody tr th {\n",
       "        vertical-align: top;\n",
       "    }\n",
       "\n",
       "    .dataframe thead th {\n",
       "        text-align: right;\n",
       "    }\n",
       "</style>\n",
       "<table border=\"1\" class=\"dataframe\">\n",
       "  <thead>\n",
       "    <tr style=\"text-align: right;\">\n",
       "      <th></th>\n",
       "      <th>Date</th>\n",
       "      <th>Location</th>\n",
       "      <th>MinTemp</th>\n",
       "      <th>MaxTemp</th>\n",
       "      <th>Rainfall</th>\n",
       "      <th>Evaporation</th>\n",
       "      <th>Sunshine</th>\n",
       "      <th>WindGustDir</th>\n",
       "      <th>WindGustSpeed</th>\n",
       "      <th>WindDir9am</th>\n",
       "      <th>...</th>\n",
       "      <th>Pressure3pm</th>\n",
       "      <th>Cloud9am</th>\n",
       "      <th>Cloud3pm</th>\n",
       "      <th>Temp9am</th>\n",
       "      <th>Temp3pm</th>\n",
       "      <th>RainToday</th>\n",
       "      <th>RISK_MM</th>\n",
       "      <th>RainTomorrow</th>\n",
       "      <th>RainTomorrow_num</th>\n",
       "      <th>RainToday_num</th>\n",
       "    </tr>\n",
       "  </thead>\n",
       "  <tbody>\n",
       "  </tbody>\n",
       "</table>\n",
       "<p>0 rows × 26 columns</p>\n",
       "</div>"
      ],
      "text/plain": [
       "Empty DataFrame\n",
       "Columns: [Date, Location, MinTemp, MaxTemp, Rainfall, Evaporation, Sunshine, WindGustDir, WindGustSpeed, WindDir9am, WindDir3pm, WindSpeed9am, WindSpeed3pm, Humidity9am, Humidity3pm, Pressure9am, Pressure3pm, Cloud9am, Cloud3pm, Temp9am, Temp3pm, RainToday, RISK_MM, RainTomorrow, RainTomorrow_num, RainToday_num]\n",
       "Index: []\n",
       "\n",
       "[0 rows x 26 columns]"
      ]
     },
     "execution_count": 81,
     "metadata": {},
     "output_type": "execute_result"
    }
   ],
   "source": [
    "# visulizando si quedan nulos\n",
    "data[data[\"Rainfall\"].isnull()]"
   ]
  },
  {
   "cell_type": "code",
   "execution_count": 82,
   "metadata": {},
   "outputs": [],
   "source": [
    "# buscando la mediana de WindSpeed9am según WindDir9am\n",
    "median_windD9 = data.groupby('WindDir9am')['WindSpeed9am'].median()"
   ]
  },
  {
   "cell_type": "code",
   "execution_count": 83,
   "metadata": {},
   "outputs": [],
   "source": [
    "# reemplazando los nulos por mediana según WindDir9am\n",
    "data[\"WindSpeed9am\"].fillna(median_windD9, inplace=True)"
   ]
  },
  {
   "cell_type": "code",
   "execution_count": 84,
   "metadata": {},
   "outputs": [],
   "source": [
    "# visulizando si quedan nulos\n"
   ]
  },
  {
   "cell_type": "code",
   "execution_count": 85,
   "metadata": {},
   "outputs": [
    {
     "data": {
      "text/plain": [
       "Sunshine            43343\n",
       "Evaporation         38223\n",
       "Cloud3pm            37628\n",
       "Cloud9am            34963\n",
       "Pressure9am          8751\n",
       "Pressure3pm          8713\n",
       "WindDir9am           6412\n",
       "WindGustDir          5588\n",
       "WindGustSpeed        5561\n",
       "Humidity3pm          2180\n",
       "WindDir3pm           2146\n",
       "WindSpeed3pm         1597\n",
       "Humidity9am           916\n",
       "WindSpeed9am          849\n",
       "RainToday_num         488\n",
       "Location                0\n",
       "Rainfall                0\n",
       "MaxTemp                 0\n",
       "MinTemp                 0\n",
       "Temp9am                 0\n",
       "Temp3pm                 0\n",
       "RainToday               0\n",
       "RISK_MM                 0\n",
       "RainTomorrow            0\n",
       "RainTomorrow_num        0\n",
       "Date                    0\n",
       "dtype: int64"
      ]
     },
     "execution_count": 85,
     "metadata": {},
     "output_type": "execute_result"
    }
   ],
   "source": [
    "# viendo la cantidad de nulos de cada columna\n",
    "data.isnull().sum().sort_values(ascending=False)"
   ]
  },
  {
   "cell_type": "markdown",
   "metadata": {},
   "source": [
    "# ----- aparte ----"
   ]
  },
  {
   "cell_type": "code",
   "execution_count": 96,
   "metadata": {},
   "outputs": [
    {
     "data": {
      "image/png": "[encoded data removed]",
      "text/plain": [
       "<Figure size 864x720 with 2 Axes>"
      ]
     },
     "metadata": {
      "needs_background": "light"
     },
     "output_type": "display_data"
    }
   ],
   "source": [
    "selec_columns = [\"MinTemp\", \"MaxTemp\", \"Rainfall\", \"Evaporation\", \"Sunshine\",\n",
    "                    \"WindGustSpeed\", \"WindSpeed9am\", \"WindSpeed3pm\",\n",
    "                    \"Humidity9am\", \"Humidity3pm\", \"Pressure9am\", \"Pressure3pm\",\n",
    "                    \"Cloud9am\", \"Cloud3pm\", \"Temp9am\", \"Temp3pm\", \"RISK_MM\", \"RainTomorrow\"]\n",
    "correlation_matrix = data[selec_columns].corr()\n",
    "plt.figure(figsize=(12, 10))\n",
    "sns.heatmap(correlation_matrix, annot=True, cmap='magma', fmt=\".2f\")\n",
    "plt.title('Matriz de correlación')\n",
    "plt.show()"
   ]
  },
  {
   "cell_type": "code",
   "execution_count": null,
   "metadata": {},
   "outputs": [],
   "source": []
  }
 ],
 "metadata": {
  "kernelspec": {
   "display_name": "base",
   "language": "python",
   "name": "python3"
  },
  "language_info": {
   "codemirror_mode": {
    "name": "ipython",
    "version": 3
   },
   "file_extension": ".py",
   "mimetype": "text/x-python",
   "name": "python",
   "nbconvert_exporter": "python",
   "pygments_lexer": "ipython3",
   "version": "3.10.4"
  }
 },
 "nbformat": 4,
 "nbformat_minor": 2
}
